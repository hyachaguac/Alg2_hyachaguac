{
  "nbformat": 4,
  "nbformat_minor": 0,
  "metadata": {
    "colab": {
      "name": "hyachaguac_lab1.ipynb",
      "provenance": [],
      "collapsed_sections": []
    },
    "kernelspec": {
      "name": "python3",
      "display_name": "Python 3"
    },
    "language_info": {
      "name": "python"
    }
  },
  "cells": [
    {
      "cell_type": "markdown",
      "metadata": {
        "id": "_UVTQ-2eV3mC"
      },
      "source": [
        "##**Laboratorio 01** - Algoritmos 2021-2\n",
        "#**01 Data Types and Data Structures**\n",
        "**Basic Variables Types**"
      ]
    },
    {
      "cell_type": "markdown",
      "metadata": {
        "id": "WZNXdbZqXJyi"
      },
      "source": [
        "**Strings**"
      ]
    },
    {
      "cell_type": "code",
      "metadata": {
        "id": "EiKL4rZRYVSP"
      },
      "source": [
        "saludo = 'Hola Mundo, '"
      ],
      "execution_count": null,
      "outputs": []
    },
    {
      "cell_type": "code",
      "metadata": {
        "id": "1JvSwiiMXSqK"
      },
      "source": [
        "asunto = 'Algoritmos con Python.'"
      ],
      "execution_count": null,
      "outputs": []
    },
    {
      "cell_type": "markdown",
      "metadata": {
        "id": "gQZhj8bTXy_4"
      },
      "source": [
        "Imprime la unión de los variables con strings"
      ]
    },
    {
      "cell_type": "code",
      "metadata": {
        "colab": {
          "base_uri": "https://localhost:8080/"
        },
        "id": "h5YEuOBvYDr9",
        "outputId": "c6b7a038-3a8a-440c-b045-ec742b25c77b"
      },
      "source": [
        "print(saludo + asunto)"
      ],
      "execution_count": null,
      "outputs": [
        {
          "output_type": "stream",
          "name": "stdout",
          "text": [
            "Hola Mundo, Algoritmos con Python.\n"
          ]
        }
      ]
    },
    {
      "cell_type": "markdown",
      "metadata": {
        "id": "VWc2IFKXZRSm"
      },
      "source": [
        "**Números**"
      ]
    },
    {
      "cell_type": "code",
      "metadata": {
        "id": "yUCf4H13ZVy_"
      },
      "source": [
        "numero = 20"
      ],
      "execution_count": null,
      "outputs": []
    },
    {
      "cell_type": "markdown",
      "metadata": {
        "id": "1GuonYTNZeJ1"
      },
      "source": [
        "Imprime el número entero 20:"
      ]
    },
    {
      "cell_type": "code",
      "metadata": {
        "colab": {
          "base_uri": "https://localhost:8080/"
        },
        "id": "hDAFKKQlZhYh",
        "outputId": "d57f2453-45c7-4641-fdea-f2fe6d8bb001"
      },
      "source": [
        "print(numero)"
      ],
      "execution_count": null,
      "outputs": [
        {
          "output_type": "stream",
          "name": "stdout",
          "text": [
            "20\n"
          ]
        }
      ]
    },
    {
      "cell_type": "markdown",
      "metadata": {
        "id": "bTzoVdDzZo4z"
      },
      "source": [
        "Imprimero la clase o tipo del valor de la variable:"
      ]
    },
    {
      "cell_type": "code",
      "metadata": {
        "colab": {
          "base_uri": "https://localhost:8080/"
        },
        "id": "oCH92ytHZt2Q",
        "outputId": "2ddca878-5eb2-4cb0-d6ee-abe153460dc5"
      },
      "source": [
        "print(type(numero))"
      ],
      "execution_count": null,
      "outputs": [
        {
          "output_type": "stream",
          "name": "stdout",
          "text": [
            "<class 'int'>\n"
          ]
        }
      ]
    },
    {
      "cell_type": "markdown",
      "metadata": {
        "id": "BTO0jTjja4f5"
      },
      "source": [
        "**Convertir un string a un integer (número)**"
      ]
    },
    {
      "cell_type": "code",
      "metadata": {
        "id": "rFULg3I9aADE"
      },
      "source": [
        "string = \"50\""
      ],
      "execution_count": null,
      "outputs": []
    },
    {
      "cell_type": "code",
      "metadata": {
        "colab": {
          "base_uri": "https://localhost:8080/"
        },
        "id": "MnNG5HWEbIWh",
        "outputId": "9d948c67-c521-4d35-8ec4-add78b4464e2"
      },
      "source": [
        "print(type(string))"
      ],
      "execution_count": null,
      "outputs": [
        {
          "output_type": "stream",
          "name": "stdout",
          "text": [
            "<class 'str'>\n"
          ]
        }
      ]
    },
    {
      "cell_type": "markdown",
      "metadata": {
        "id": "7Oo4jgFxbPhZ"
      },
      "source": [
        "Conversión a integer (número): "
      ]
    },
    {
      "cell_type": "code",
      "metadata": {
        "id": "oUDhKZ8LbfGT"
      },
      "source": [
        "string_to_int = int(string)"
      ],
      "execution_count": null,
      "outputs": []
    },
    {
      "cell_type": "code",
      "metadata": {
        "colab": {
          "base_uri": "https://localhost:8080/"
        },
        "id": "rHPEQGISbnu0",
        "outputId": "165b7f01-d6a6-49ea-9857-dc068f484db2"
      },
      "source": [
        "print(type(string_to_int))"
      ],
      "execution_count": null,
      "outputs": [
        {
          "output_type": "stream",
          "name": "stdout",
          "text": [
            "<class 'int'>\n"
          ]
        }
      ]
    },
    {
      "cell_type": "markdown",
      "metadata": {
        "id": "Co8Z6TPsb32M"
      },
      "source": [
        "**Float (Número Real en Matemáticas)**"
      ]
    },
    {
      "cell_type": "code",
      "metadata": {
        "id": "VvXB2qFbcF-U"
      },
      "source": [
        "string2 = \"34\""
      ],
      "execution_count": null,
      "outputs": []
    },
    {
      "cell_type": "markdown",
      "metadata": {
        "id": "Fiep0rE_cTu-"
      },
      "source": [
        "Conversión a float:"
      ]
    },
    {
      "cell_type": "code",
      "metadata": {
        "id": "w2W73IUScU6A"
      },
      "source": [
        "conversion_float = float(string2)"
      ],
      "execution_count": null,
      "outputs": []
    },
    {
      "cell_type": "code",
      "metadata": {
        "colab": {
          "base_uri": "https://localhost:8080/"
        },
        "id": "MFOwXUsXcmgF",
        "outputId": "7eebf624-0383-45b0-8ffa-96eb2302a290"
      },
      "source": [
        "print(type(conversion_float))"
      ],
      "execution_count": null,
      "outputs": [
        {
          "output_type": "stream",
          "name": "stdout",
          "text": [
            "<class 'float'>\n"
          ]
        }
      ]
    },
    {
      "cell_type": "markdown",
      "metadata": {
        "id": "ZtpE8gelcyKh"
      },
      "source": [
        "**\"Tipos Booleanos\" Valores True y False**"
      ]
    },
    {
      "cell_type": "code",
      "metadata": {
        "id": "kTs1Wlmkc4Sk"
      },
      "source": [
        "valor = True"
      ],
      "execution_count": null,
      "outputs": []
    },
    {
      "cell_type": "code",
      "metadata": {
        "id": "WJlfXv2udgi6"
      },
      "source": [
        "valor2 = False"
      ],
      "execution_count": null,
      "outputs": []
    },
    {
      "cell_type": "code",
      "metadata": {
        "colab": {
          "base_uri": "https://localhost:8080/"
        },
        "id": "7PqD3Xq8c99a",
        "outputId": "5156121d-33e0-4b8e-db22-4967e4f1967b"
      },
      "source": [
        "print(valor)"
      ],
      "execution_count": null,
      "outputs": [
        {
          "output_type": "stream",
          "name": "stdout",
          "text": [
            "True\n"
          ]
        }
      ]
    },
    {
      "cell_type": "markdown",
      "metadata": {
        "id": "TcLlMnTsdChe"
      },
      "source": [
        "Mostrar el tipo de dato de la varible \"valor\":"
      ]
    },
    {
      "cell_type": "code",
      "metadata": {
        "colab": {
          "base_uri": "https://localhost:8080/"
        },
        "id": "wEfBtk9LdG_c",
        "outputId": "699827cd-034b-44e2-a483-449028e85c52"
      },
      "source": [
        "print(type(valor))"
      ],
      "execution_count": null,
      "outputs": [
        {
          "output_type": "stream",
          "name": "stdout",
          "text": [
            "<class 'bool'>\n"
          ]
        }
      ]
    },
    {
      "cell_type": "markdown",
      "metadata": {
        "id": "fMs2GL_fdzLu"
      },
      "source": [
        "**Operaciones Matemáticas Básicas**"
      ]
    },
    {
      "cell_type": "code",
      "metadata": {
        "colab": {
          "base_uri": "https://localhost:8080/"
        },
        "id": "dq8oXf7zd-dm",
        "outputId": "6e0010b9-7066-4bbd-e52c-52457e3fb299"
      },
      "source": [
        "print(\"Suma \", 2+13)"
      ],
      "execution_count": null,
      "outputs": [
        {
          "output_type": "stream",
          "name": "stdout",
          "text": [
            "Suma  15\n"
          ]
        }
      ]
    },
    {
      "cell_type": "code",
      "metadata": {
        "colab": {
          "base_uri": "https://localhost:8080/"
        },
        "id": "Vxj-9uKveEsF",
        "outputId": "83c7ff91-9c55-4925-ad39-338ff4b3e12d"
      },
      "source": [
        "print(\"Resta \", 32-8)"
      ],
      "execution_count": null,
      "outputs": [
        {
          "output_type": "stream",
          "name": "stdout",
          "text": [
            "Resta  24\n"
          ]
        }
      ]
    },
    {
      "cell_type": "code",
      "metadata": {
        "colab": {
          "base_uri": "https://localhost:8080/"
        },
        "id": "CADzVUnHeI-1",
        "outputId": "67d540b0-4d97-4a03-e57f-424273ca0992"
      },
      "source": [
        "print(\"Multiplicación \", 34*11)"
      ],
      "execution_count": null,
      "outputs": [
        {
          "output_type": "stream",
          "name": "stdout",
          "text": [
            "Multiplicación  374\n"
          ]
        }
      ]
    },
    {
      "cell_type": "code",
      "metadata": {
        "colab": {
          "base_uri": "https://localhost:8080/"
        },
        "id": "qx-0gOuXeRaC",
        "outputId": "c345e025-6aab-41e8-d014-bf61db1cd9e4"
      },
      "source": [
        "print(\"División \", 89/3)"
      ],
      "execution_count": null,
      "outputs": [
        {
          "output_type": "stream",
          "name": "stdout",
          "text": [
            "División  29.666666666666668\n"
          ]
        }
      ]
    },
    {
      "cell_type": "code",
      "metadata": {
        "colab": {
          "base_uri": "https://localhost:8080/"
        },
        "id": "dDVAfTM3ebKs",
        "outputId": "67ee2819-4927-4f0c-d357-786883f57dac"
      },
      "source": [
        "print(\"Exponente\", 3**4)"
      ],
      "execution_count": null,
      "outputs": [
        {
          "output_type": "stream",
          "name": "stdout",
          "text": [
            "Exponente 81\n"
          ]
        }
      ]
    },
    {
      "cell_type": "markdown",
      "metadata": {
        "id": "jAz1OxiDe6kc"
      },
      "source": [
        "Números racionales y decimales:"
      ]
    },
    {
      "cell_type": "code",
      "metadata": {
        "colab": {
          "base_uri": "https://localhost:8080/"
        },
        "id": "P5n2Ai0kfBHw",
        "outputId": "76361842-fb16-4bef-d546-b3313dd62db2"
      },
      "source": [
        "print(16/9)"
      ],
      "execution_count": null,
      "outputs": [
        {
          "output_type": "stream",
          "name": "stdout",
          "text": [
            "1.7777777777777777\n"
          ]
        }
      ]
    },
    {
      "cell_type": "code",
      "metadata": {
        "colab": {
          "base_uri": "https://localhost:8080/"
        },
        "id": "99xmMYxdfEAG",
        "outputId": "41eae3ef-028a-4a77-898d-bd954a3bdc22"
      },
      "source": [
        "print(16.0/9)"
      ],
      "execution_count": null,
      "outputs": [
        {
          "output_type": "stream",
          "name": "stdout",
          "text": [
            "1.7777777777777777\n"
          ]
        }
      ]
    },
    {
      "cell_type": "markdown",
      "metadata": {
        "id": "LcOrq1RWfbTp"
      },
      "source": [
        "**Colección de Datos**"
      ]
    },
    {
      "cell_type": "markdown",
      "metadata": {
        "id": "Yi7UBlaifmLf"
      },
      "source": [
        "**Listas:** (Pueden contener strings, integers, booleans, floats...)"
      ]
    },
    {
      "cell_type": "code",
      "metadata": {
        "id": "0NTGBFiqfrtZ"
      },
      "source": [
        "lista = ['Hola', True, 20.45, 190, 196, 234]"
      ],
      "execution_count": null,
      "outputs": []
    },
    {
      "cell_type": "code",
      "metadata": {
        "colab": {
          "base_uri": "https://localhost:8080/"
        },
        "id": "iECP75f-ghdu",
        "outputId": "300b3d4b-780d-4c76-ede5-f9e0f92ca77a"
      },
      "source": [
        "print(lista)"
      ],
      "execution_count": null,
      "outputs": [
        {
          "output_type": "stream",
          "name": "stdout",
          "text": [
            "['Hola', True, 20.45, 190, 196, 234]\n"
          ]
        }
      ]
    },
    {
      "cell_type": "markdown",
      "metadata": {
        "id": "7kdbj_d5gt5S"
      },
      "source": [
        "A los elementos en las listas se pueden por medio de los índices"
      ]
    },
    {
      "cell_type": "code",
      "metadata": {
        "id": "NGOLj5TGhWw2"
      },
      "source": [
        "lista = ['Hola', True, 20.45, 190, 196, 234]"
      ],
      "execution_count": null,
      "outputs": []
    },
    {
      "cell_type": "markdown",
      "metadata": {
        "id": "HZxHgusJhdse"
      },
      "source": [
        "Para conocer la cantidad o longitud de la lista:"
      ]
    },
    {
      "cell_type": "code",
      "metadata": {
        "colab": {
          "base_uri": "https://localhost:8080/"
        },
        "id": "M-aIqeOmhipX",
        "outputId": "9d8c655e-d0eb-4085-bf3c-c59a81cca851"
      },
      "source": [
        "print(len(lista))"
      ],
      "execution_count": null,
      "outputs": [
        {
          "output_type": "stream",
          "name": "stdout",
          "text": [
            "6\n"
          ]
        }
      ]
    },
    {
      "cell_type": "markdown",
      "metadata": {
        "id": "a8mjQMY3hsgD"
      },
      "source": [
        "Imprimir el elemento de la lista en la primera y última posición:"
      ]
    },
    {
      "cell_type": "code",
      "metadata": {
        "colab": {
          "base_uri": "https://localhost:8080/"
        },
        "id": "P41o2t9vhzcF",
        "outputId": "1018c6e3-35f7-4655-cc5e-a8422fc71891"
      },
      "source": [
        "print(lista[0])"
      ],
      "execution_count": null,
      "outputs": [
        {
          "output_type": "stream",
          "name": "stdout",
          "text": [
            "Hola\n"
          ]
        }
      ]
    },
    {
      "cell_type": "code",
      "metadata": {
        "colab": {
          "base_uri": "https://localhost:8080/"
        },
        "id": "QzPXVvJdh3Qi",
        "outputId": "72e19cf9-790d-4b4e-a984-7451bff3f311"
      },
      "source": [
        "print(lista[5])"
      ],
      "execution_count": null,
      "outputs": [
        {
          "output_type": "stream",
          "name": "stdout",
          "text": [
            "234\n"
          ]
        }
      ]
    },
    {
      "cell_type": "markdown",
      "metadata": {
        "id": "-4pBkpoziOdW"
      },
      "source": [
        "Imprime el elemento cuya posición es [tamaño total de la lista - 2] = [6-2] = [4]"
      ]
    },
    {
      "cell_type": "code",
      "metadata": {
        "colab": {
          "base_uri": "https://localhost:8080/"
        },
        "id": "kbcCKcpiiOyv",
        "outputId": "303cb5c7-fe8f-4fa1-8d3c-19cecb0fb83d"
      },
      "source": [
        "print(lista[len(lista)-2])"
      ],
      "execution_count": null,
      "outputs": [
        {
          "output_type": "stream",
          "name": "stdout",
          "text": [
            "196\n"
          ]
        }
      ]
    },
    {
      "cell_type": "code",
      "metadata": {
        "id": "2-fchOBPjIRp"
      },
      "source": [
        "lista = ['Hola', True, 20.45, 190, 196, 234]"
      ],
      "execution_count": null,
      "outputs": []
    },
    {
      "cell_type": "markdown",
      "metadata": {
        "id": "LsC9tGLojBUX"
      },
      "source": [
        "Cambia el elemento de la lista usando el índice: (en la cuarta posición)"
      ]
    },
    {
      "cell_type": "code",
      "metadata": {
        "id": "BN7qabI1jLz-"
      },
      "source": [
        "lista[3] = 'Algoritmos'"
      ],
      "execution_count": null,
      "outputs": []
    },
    {
      "cell_type": "code",
      "metadata": {
        "colab": {
          "base_uri": "https://localhost:8080/"
        },
        "id": "JwdFyELAjZAq",
        "outputId": "e70cffbd-9ec4-4c68-afdc-eedd74fd7f58"
      },
      "source": [
        "print(lista)"
      ],
      "execution_count": null,
      "outputs": [
        {
          "output_type": "stream",
          "name": "stdout",
          "text": [
            "['Hola', True, 20.45, 'Algoritmos', 196, 234]\n"
          ]
        }
      ]
    },
    {
      "cell_type": "markdown",
      "metadata": {
        "id": "jhBKCZSRjy-C"
      },
      "source": [
        "Partir la lista con \":\" e indicando las posiciones a las cuales los elementos se encuentren entre ellas serán mostrados"
      ]
    },
    {
      "cell_type": "code",
      "metadata": {
        "colab": {
          "base_uri": "https://localhost:8080/"
        },
        "id": "-tW2Jqzyj79A",
        "outputId": "a2929720-3282-4682-cc9a-46aa7b4aebd0"
      },
      "source": [
        "print(lista[2:5])"
      ],
      "execution_count": null,
      "outputs": [
        {
          "output_type": "stream",
          "name": "stdout",
          "text": [
            "[20.45, 'Algoritmos', 196]\n"
          ]
        }
      ]
    },
    {
      "cell_type": "markdown",
      "metadata": {
        "id": "h72dKi4NklU8"
      },
      "source": [
        "Dividir la lista indicando el indice deseado y mostrando todos los demás a partir de dicho índice:"
      ]
    },
    {
      "cell_type": "code",
      "metadata": {
        "colab": {
          "base_uri": "https://localhost:8080/"
        },
        "id": "Yok358VRlv5m",
        "outputId": "7ab31b75-84b4-4696-f303-b4ee2fa59238"
      },
      "source": [
        "print(lista[3:])"
      ],
      "execution_count": null,
      "outputs": [
        {
          "output_type": "stream",
          "name": "stdout",
          "text": [
            "['Algoritmos', 196, 234]\n"
          ]
        }
      ]
    },
    {
      "cell_type": "markdown",
      "metadata": {
        "id": "3gXWBEW-l-W7"
      },
      "source": [
        "Muestra todos los elementos hasta el el índice sin incluido"
      ]
    },
    {
      "cell_type": "code",
      "metadata": {
        "colab": {
          "base_uri": "https://localhost:8080/"
        },
        "id": "b3NVWUNumEdO",
        "outputId": "377c2a0e-a8c6-4c40-be44-8fa922e9b646"
      },
      "source": [
        "print(lista[:1])"
      ],
      "execution_count": null,
      "outputs": [
        {
          "output_type": "stream",
          "name": "stdout",
          "text": [
            "['Hola']\n"
          ]
        }
      ]
    },
    {
      "cell_type": "markdown",
      "metadata": {
        "id": "3_FN8Qttm0j4"
      },
      "source": [
        "Agregar un elemento al final de la lista con **append():**"
      ]
    },
    {
      "cell_type": "code",
      "metadata": {
        "id": "tdmFid9sm7vf"
      },
      "source": [
        "lista = ['Hola', 2021, 'Algoritmos']"
      ],
      "execution_count": null,
      "outputs": []
    },
    {
      "cell_type": "code",
      "metadata": {
        "id": "HoXaw-eOnIGF"
      },
      "source": [
        "lista.append('Mundo')"
      ],
      "execution_count": null,
      "outputs": []
    },
    {
      "cell_type": "markdown",
      "metadata": {
        "id": "L3DGgBybnP3u"
      },
      "source": [
        "Elemento *'Mundo'* agregado al final de la lista"
      ]
    },
    {
      "cell_type": "code",
      "metadata": {
        "colab": {
          "base_uri": "https://localhost:8080/"
        },
        "id": "gUT3I5HqnU_R",
        "outputId": "5dc23e8d-d5e1-42b8-8223-fe0a21a64cdb"
      },
      "source": [
        "print(lista)"
      ],
      "execution_count": null,
      "outputs": [
        {
          "output_type": "stream",
          "name": "stdout",
          "text": [
            "['Hola', 2021, 'Algoritmos', 'Mundo']\n"
          ]
        }
      ]
    },
    {
      "cell_type": "markdown",
      "metadata": {
        "id": "sdFpAvfHnbB8"
      },
      "source": [
        "Eliminar un elemento de la listo con **remove():**"
      ]
    },
    {
      "cell_type": "code",
      "metadata": {
        "id": "C5QhYmE7nt-t"
      },
      "source": [
        "lista.remove('Algoritmos')"
      ],
      "execution_count": null,
      "outputs": []
    },
    {
      "cell_type": "markdown",
      "metadata": {
        "id": "-c74KKWzn0VG"
      },
      "source": [
        "Elemento 'Algoritmo' eliminado de la lista"
      ]
    },
    {
      "cell_type": "code",
      "metadata": {
        "colab": {
          "base_uri": "https://localhost:8080/"
        },
        "id": "hO_QeJ_in5M2",
        "outputId": "18e0a370-d589-4271-ccfc-2759273ef4d5"
      },
      "source": [
        "print(lista)"
      ],
      "execution_count": null,
      "outputs": [
        {
          "output_type": "stream",
          "name": "stdout",
          "text": [
            "['Hola', 2021, 'Mundo']\n"
          ]
        }
      ]
    },
    {
      "cell_type": "markdown",
      "metadata": {
        "id": "VXW3xub_oFlX"
      },
      "source": [
        "**Tupla** (No se pueden cambiar los elementos una vez definidos)"
      ]
    },
    {
      "cell_type": "code",
      "metadata": {
        "id": "Rw9oGOspptG5"
      },
      "source": [
        "tupla = ('Algoritmos ', 'con ', 'Python ', 2021)"
      ],
      "execution_count": 56,
      "outputs": []
    },
    {
      "cell_type": "markdown",
      "metadata": {
        "id": "GKIbgMELqJLX"
      },
      "source": [
        "Se puede partir la tupla usando un índice"
      ]
    },
    {
      "cell_type": "code",
      "metadata": {
        "colab": {
          "base_uri": "https://localhost:8080/"
        },
        "id": "qdm1gDViqhSx",
        "outputId": "31a71e34-013f-4d0f-dfca-3c5c94363f87"
      },
      "source": [
        "print(tupla[2:])"
      ],
      "execution_count": 58,
      "outputs": [
        {
          "output_type": "stream",
          "name": "stdout",
          "text": [
            "('Python ', 20212)\n"
          ]
        }
      ]
    },
    {
      "cell_type": "code",
      "metadata": {
        "colab": {
          "base_uri": "https://localhost:8080/"
        },
        "id": "t8jdZEK1q0yU",
        "outputId": "42ef1d48-f190-4ced-d818-7810096b2241"
      },
      "source": [
        "print(tupla[:3])"
      ],
      "execution_count": 59,
      "outputs": [
        {
          "output_type": "stream",
          "name": "stdout",
          "text": [
            "('Algoritmos ', 'con ', 'Python ')\n"
          ]
        }
      ]
    },
    {
      "cell_type": "markdown",
      "metadata": {
        "id": "wLTXioNIrCc0"
      },
      "source": [
        "**Set \"set()\"** Colección desordenada que no tiene elementos duplicados "
      ]
    },
    {
      "cell_type": "code",
      "metadata": {
        "id": "0hYvVZTVrwvI"
      },
      "source": [
        "lista_autos = ['BMW', 'BMW', 'Audi', 'Jeep', 'Ferrari', 'Tesla']"
      ],
      "execution_count": 60,
      "outputs": []
    },
    {
      "cell_type": "code",
      "metadata": {
        "id": "Nv7UFWVZsBhq"
      },
      "source": [
        "lista_set = set(lista_autos)"
      ],
      "execution_count": 63,
      "outputs": []
    },
    {
      "cell_type": "markdown",
      "metadata": {
        "id": "gor0fMRJs2fv"
      },
      "source": [
        "Remueve elementos duplicados:"
      ]
    },
    {
      "cell_type": "code",
      "metadata": {
        "colab": {
          "base_uri": "https://localhost:8080/"
        },
        "id": "03tpwbvWsKzK",
        "outputId": "93b08658-c3fc-45a3-ce6f-1ec92cddefb6"
      },
      "source": [
        "print(lista_set)"
      ],
      "execution_count": 64,
      "outputs": [
        {
          "output_type": "stream",
          "name": "stdout",
          "text": [
            "{'Audi', 'Ferrari', 'Jeep', 'Tesla', 'BMW'}\n"
          ]
        }
      ]
    },
    {
      "cell_type": "markdown",
      "metadata": {
        "id": "Jpwv2R6StEeC"
      },
      "source": [
        "**Dictionary** Maneja llaves (keys) únicas que pueden ser strings o floats junto con el valor (value) dentro de {}"
      ]
    },
    {
      "cell_type": "code",
      "metadata": {
        "id": "6jkDmlEzvKHD"
      },
      "source": [
        "dictionary = {'nombre': 'Harol', 'apellido': 'Achagua', 'clase': 'Algoritmos'}"
      ],
      "execution_count": 1,
      "outputs": []
    },
    {
      "cell_type": "markdown",
      "metadata": {
        "id": "laEaNCs5vjlR"
      },
      "source": [
        "Mostrar el value de la key *'nombre'*"
      ]
    },
    {
      "cell_type": "code",
      "metadata": {
        "colab": {
          "base_uri": "https://localhost:8080/"
        },
        "id": "zGUCH0EqviiK",
        "outputId": "18685890-cff0-4e92-839e-6265bb04c1b3"
      },
      "source": [
        "print(dictionary['clase'])"
      ],
      "execution_count": 2,
      "outputs": [
        {
          "output_type": "stream",
          "name": "stdout",
          "text": [
            "Algoritmos\n"
          ]
        }
      ]
    },
    {
      "cell_type": "markdown",
      "metadata": {
        "id": "S61UNnUAwCtL"
      },
      "source": [
        "Ingresar o modificar un value usando su respectiva key:"
      ]
    },
    {
      "cell_type": "code",
      "metadata": {
        "id": "7EvVMDAFwIQr"
      },
      "source": [
        "dictionary['clase'] = 'Algoritmos 2021-2'"
      ],
      "execution_count": 3,
      "outputs": []
    },
    {
      "cell_type": "code",
      "metadata": {
        "colab": {
          "base_uri": "https://localhost:8080/"
        },
        "id": "TGAjS9RywTCe",
        "outputId": "84cac20a-5f0a-47df-cb2a-eded855487fd"
      },
      "source": [
        "print(dictionary['clase'])"
      ],
      "execution_count": 4,
      "outputs": [
        {
          "output_type": "stream",
          "name": "stdout",
          "text": [
            "Algoritmos 2021-2\n"
          ]
        }
      ]
    },
    {
      "cell_type": "markdown",
      "metadata": {
        "id": "dfdZaP9oxL9F"
      },
      "source": [
        "Mostrar todas las keys del dictionary:"
      ]
    },
    {
      "cell_type": "code",
      "metadata": {
        "colab": {
          "base_uri": "https://localhost:8080/"
        },
        "id": "KOmebXJbxDz1",
        "outputId": "32a17f14-9b00-4779-9329-e45689309245"
      },
      "source": [
        "print(dictionary.keys())"
      ],
      "execution_count": 5,
      "outputs": [
        {
          "output_type": "stream",
          "name": "stdout",
          "text": [
            "dict_keys(['nombre', 'apellido', 'clase'])\n"
          ]
        }
      ]
    },
    {
      "cell_type": "markdown",
      "metadata": {
        "id": "zV8KPAJMxUx2"
      },
      "source": [
        "**Operaciones con strings**"
      ]
    },
    {
      "cell_type": "markdown",
      "metadata": {
        "id": "bPPhhvQKxs1j"
      },
      "source": [
        "Se puede mostrar la secuencia de caracteres con en las tuplas antes o después de un índice señalado:"
      ]
    },
    {
      "cell_type": "code",
      "metadata": {
        "id": "1rSEusI8xbg-"
      },
      "source": [
        "string = 'Algoritmos Laboratorio 01'"
      ],
      "execution_count": 6,
      "outputs": []
    },
    {
      "cell_type": "code",
      "metadata": {
        "colab": {
          "base_uri": "https://localhost:8080/"
        },
        "id": "enFtPa4pyBh2",
        "outputId": "b95ac550-b8cd-45e6-ea17-c6ea72d63268"
      },
      "source": [
        "print(string[10:])"
      ],
      "execution_count": 8,
      "outputs": [
        {
          "output_type": "stream",
          "name": "stdout",
          "text": [
            " Laboratorio 01\n"
          ]
        }
      ]
    },
    {
      "cell_type": "markdown",
      "metadata": {
        "id": "fSsLy1seywzg"
      },
      "source": [
        "Mostrar la cantidad de letras *'o'* en con **.count()**:"
      ]
    },
    {
      "cell_type": "code",
      "metadata": {
        "colab": {
          "base_uri": "https://localhost:8080/"
        },
        "id": "_Y0dbyNfy1Bc",
        "outputId": "29a6597b-3088-4da6-c9a6-83636ee90b19"
      },
      "source": [
        "print('Algoritmos con Python, 2021-2'.count('o'))"
      ],
      "execution_count": 13,
      "outputs": [
        {
          "output_type": "stream",
          "name": "stdout",
          "text": [
            "4\n"
          ]
        }
      ]
    },
    {
      "cell_type": "markdown",
      "metadata": {
        "id": "S8c5VJFHzngu"
      },
      "source": [
        "Encuentra la primera ocurrencia del valor indicado y muestra su índice con **.find():**"
      ]
    },
    {
      "cell_type": "code",
      "metadata": {
        "colab": {
          "base_uri": "https://localhost:8080/"
        },
        "id": "O_FSV8QUz1nB",
        "outputId": "7c24ed81-5db4-40c2-d76e-5e69aa07f64b"
      },
      "source": [
        "print('Universidad Nacional de Colombia, '.find('l'))"
      ],
      "execution_count": 14,
      "outputs": [
        {
          "output_type": "stream",
          "name": "stdout",
          "text": [
            "19\n"
          ]
        }
      ]
    },
    {
      "cell_type": "markdown",
      "metadata": {
        "id": "kqpv7ieH0fju"
      },
      "source": [
        "Reemplaza una frase o caracter específico con otro usando **replace():**"
      ]
    },
    {
      "cell_type": "code",
      "metadata": {
        "colab": {
          "base_uri": "https://localhost:8080/"
        },
        "id": "6BgXu6tW01s4",
        "outputId": "625245a0-acf0-4699-f988-ef60e91604e6"
      },
      "source": [
        "print('Ingeniería de Sistemas y Computación, Sede Bogotá'.replace('e', 'x'))"
      ],
      "execution_count": 16,
      "outputs": [
        {
          "output_type": "stream",
          "name": "stdout",
          "text": [
            "Ingxnixría dx Sistxmas y Computación, Sxdx Bogotá\n"
          ]
        }
      ]
    },
    {
      "cell_type": "code",
      "metadata": {
        "colab": {
          "base_uri": "https://localhost:8080/"
        },
        "id": "TBRrFcOO1UmX",
        "outputId": "729d3444-5b9f-45c4-d28e-fbe5778d368f"
      },
      "source": [
        "print('Ingeniería de Sistemas y Computación, Sede Bogotá'.replace('Bogotá', 'Medellín'))"
      ],
      "execution_count": 17,
      "outputs": [
        {
          "output_type": "stream",
          "name": "stdout",
          "text": [
            "Ingeniería de Sistemas y Computación, Sede Medellín\n"
          ]
        }
      ]
    },
    {
      "cell_type": "markdown",
      "metadata": {
        "id": "fnPc9Vhk2QVn"
      },
      "source": [
        "**Separar el string en elementos de una lista con split():**"
      ]
    },
    {
      "cell_type": "code",
      "metadata": {
        "id": "C6RwJBVc2ivU"
      },
      "source": [
        "colors = 'blue, yellow, red, white, black, green, pink, brown'"
      ],
      "execution_count": 18,
      "outputs": []
    },
    {
      "cell_type": "code",
      "metadata": {
        "id": "UMBcIMDN2zgM"
      },
      "source": [
        "splited_colors = colors.split(', ')"
      ],
      "execution_count": 21,
      "outputs": []
    },
    {
      "cell_type": "code",
      "metadata": {
        "colab": {
          "base_uri": "https://localhost:8080/"
        },
        "id": "EHtRiINS3Fob",
        "outputId": "bafcc6bb-e13c-4cc3-f882-4d073195ecda"
      },
      "source": [
        "print(splited_colors[:2])"
      ],
      "execution_count": 24,
      "outputs": [
        {
          "output_type": "stream",
          "name": "stdout",
          "text": [
            "['blue', 'yellow']\n"
          ]
        }
      ]
    },
    {
      "cell_type": "markdown",
      "metadata": {
        "id": "hMRYEUcb3zpm"
      },
      "source": [
        "**Reemplazar partes del string con .format():**"
      ]
    },
    {
      "cell_type": "code",
      "metadata": {
        "id": "fdTb4-Wn4Bpm"
      },
      "source": [
        "fecha = 'Día: {}, Mes: {}, Año: {}'.format('24','10','2021')"
      ],
      "execution_count": 25,
      "outputs": []
    },
    {
      "cell_type": "code",
      "metadata": {
        "colab": {
          "base_uri": "https://localhost:8080/"
        },
        "id": "SkHai-wB4RyH",
        "outputId": "75939b72-211a-4afd-8f5b-b6c069e4ec87"
      },
      "source": [
        "print(fecha)"
      ],
      "execution_count": 26,
      "outputs": [
        {
          "output_type": "stream",
          "name": "stdout",
          "text": [
            "Día: 24, Mes: 10, Año: 2021\n"
          ]
        }
      ]
    },
    {
      "cell_type": "markdown",
      "metadata": {
        "id": "v_v9egevOYFD"
      },
      "source": [
        "**Usando % para dar formato a un string:**"
      ]
    },
    {
      "cell_type": "code",
      "metadata": {
        "colab": {
          "base_uri": "https://localhost:8080/"
        },
        "id": "SNQa_v4rOdnD",
        "outputId": "c1b6d614-58d8-438a-a6d2-680f8051bc44"
      },
      "source": [
        "print('El número de Euler es %f' %2.71828)"
      ],
      "execution_count": 27,
      "outputs": [
        {
          "output_type": "stream",
          "name": "stdout",
          "text": [
            "El número de Euler es 2.718280\n"
          ]
        }
      ]
    },
    {
      "cell_type": "code",
      "metadata": {
        "colab": {
          "base_uri": "https://localhost:8080/"
        },
        "id": "_Xd8i3uyOy-r",
        "outputId": "f285581a-6518-43d3-dfe6-ca85a27d885a"
      },
      "source": [
        "print('%s con %s' %('Algoritmos','Python'))"
      ],
      "execution_count": 28,
      "outputs": [
        {
          "output_type": "stream",
          "name": "stdout",
          "text": [
            "Algoritmos con Python\n"
          ]
        }
      ]
    },
    {
      "cell_type": "markdown",
      "metadata": {
        "id": "pACNFIbqP0Vy"
      },
      "source": [
        "#**02 Logical Operations and Loops**"
      ]
    },
    {
      "cell_type": "code",
      "metadata": {
        "colab": {
          "base_uri": "https://localhost:8080/"
        },
        "id": "KQKhdHuQPWgP",
        "outputId": "afb83c98-9d18-42e9-be19-400f924606dc"
      },
      "source": [
        "print(0 == 2)\n",
        "print(1 == 1)\n",
        "print(5 != 3)\n",
        "print(2 <= 1)\n",
        "print(9 >= 5)"
      ],
      "execution_count": 30,
      "outputs": [
        {
          "output_type": "stream",
          "name": "stdout",
          "text": [
            "False\n",
            "True\n",
            "True\n",
            "False\n",
            "True\n"
          ]
        }
      ]
    },
    {
      "cell_type": "code",
      "metadata": {
        "colab": {
          "base_uri": "https://localhost:8080/"
        },
        "id": "XwOv-RfSQBKu",
        "outputId": "d9f65058-00f6-465b-f3da-d5dd6d316611"
      },
      "source": [
        "print(True and True)"
      ],
      "execution_count": 32,
      "outputs": [
        {
          "output_type": "stream",
          "name": "stdout",
          "text": [
            "True\n"
          ]
        }
      ]
    },
    {
      "cell_type": "code",
      "metadata": {
        "colab": {
          "base_uri": "https://localhost:8080/"
        },
        "id": "3KvBwZkGQPOZ",
        "outputId": "bc5c3d77-12e5-4e0f-de70-ed639f1ebfd1"
      },
      "source": [
        "print(False or False)"
      ],
      "execution_count": 33,
      "outputs": [
        {
          "output_type": "stream",
          "name": "stdout",
          "text": [
            "False\n"
          ]
        }
      ]
    },
    {
      "cell_type": "code",
      "metadata": {
        "colab": {
          "base_uri": "https://localhost:8080/"
        },
        "id": "x0NKfTHHQaXn",
        "outputId": "a0b935e5-2380-4283-c8bf-7d337bd8383a"
      },
      "source": [
        "print(not True)"
      ],
      "execution_count": 34,
      "outputs": [
        {
          "output_type": "stream",
          "name": "stdout",
          "text": [
            "False\n"
          ]
        }
      ]
    },
    {
      "cell_type": "markdown",
      "metadata": {
        "id": "7Yn5CdfCQlWW"
      },
      "source": [
        "#**If Statement**\n",
        "Esta sentencia solo ejecuta una parte del código solo si la condición dada es True, de ser False se ejecutará otra cosa."
      ]
    },
    {
      "cell_type": "code",
      "metadata": {
        "colab": {
          "base_uri": "https://localhost:8080/"
        },
        "id": "V6XOsvHzRB4X",
        "outputId": "f810bd08-59c1-4279-f2ff-a4301fa7e84f"
      },
      "source": [
        "i = 1\n",
        "if i == 1:\n",
        "  print('i == 1 is True')"
      ],
      "execution_count": 38,
      "outputs": [
        {
          "output_type": "stream",
          "name": "stdout",
          "text": [
            "i == 1 is True\n"
          ]
        }
      ]
    },
    {
      "cell_type": "markdown",
      "metadata": {
        "id": "ErKb_qqJRqcM"
      },
      "source": [
        "Cuando el **if** se evalúa en *False* se pasa a ejecutar al **elif**"
      ]
    },
    {
      "cell_type": "code",
      "metadata": {
        "colab": {
          "base_uri": "https://localhost:8080/"
        },
        "id": "IhkwlPH4RqIZ",
        "outputId": "5ea4ff63-c1f4-4f82-d386-010d36bb4fc3"
      },
      "source": [
        "p = True\n",
        "q = False\n",
        "if p or q:\n",
        "    print('p or q is True')\n",
        "elif p and q:\n",
        "    print('p and q is False')\n",
        "else:\n",
        "    print('None') "
      ],
      "execution_count": 41,
      "outputs": [
        {
          "output_type": "stream",
          "name": "stdout",
          "text": [
            "p or q is True\n"
          ]
        }
      ]
    },
    {
      "cell_type": "markdown",
      "metadata": {
        "id": "JDcTS4ClS5Dx"
      },
      "source": [
        "#**Loop Structure**\n",
        "Ejecutan una parte de código repetidamente"
      ]
    },
    {
      "cell_type": "markdown",
      "metadata": {
        "id": "Bn-CA6jCTG4o"
      },
      "source": [
        "**While Loop**\n",
        "Ejecuta una parte de código hasta que cierta condición se cumpla:"
      ]
    },
    {
      "cell_type": "code",
      "metadata": {
        "colab": {
          "base_uri": "https://localhost:8080/"
        },
        "id": "0SagFzmTTV-g",
        "outputId": "9cd15808-add2-427e-98b8-d152dfbcbb80"
      },
      "source": [
        "i = 6\n",
        "while i >= 1:\n",
        "  print(i)\n",
        "  i -= 2"
      ],
      "execution_count": 43,
      "outputs": [
        {
          "output_type": "stream",
          "name": "stdout",
          "text": [
            "6\n",
            "4\n",
            "2\n"
          ]
        }
      ]
    },
    {
      "cell_type": "markdown",
      "metadata": {
        "id": "rEHWNV0UT4uA"
      },
      "source": [
        "**For Loop** Ejecutará una parte del código hasta que la secuencia termine:"
      ]
    },
    {
      "cell_type": "code",
      "metadata": {
        "colab": {
          "base_uri": "https://localhost:8080/"
        },
        "id": "NfPUVr6aUMa2",
        "outputId": "9a1538aa-6182-47aa-b8b6-11126d42a787"
      },
      "source": [
        "lista = ('Uno', 'Dos', 'Tres')\n",
        "for i in lista:\n",
        "  print(i)\n"
      ],
      "execution_count": 45,
      "outputs": [
        {
          "output_type": "stream",
          "name": "stdout",
          "text": [
            "Uno\n",
            "Dos\n",
            "Tres\n"
          ]
        }
      ]
    },
    {
      "cell_type": "code",
      "metadata": {
        "colab": {
          "base_uri": "https://localhost:8080/"
        },
        "id": "YfFOH2TLU0H9",
        "outputId": "8c777427-0e3f-4603-febe-363e55b80b8f"
      },
      "source": [
        "autos = ['BMW', 'Audi', 'Jeep', 'Hummer']\n",
        "disponibles = ['Audi', 'Ferrari']\n",
        "for i in autos:\n",
        "  if i not in disponibles:\n",
        "    autos.remove(i)\n",
        "print(autos)"
      ],
      "execution_count": 49,
      "outputs": [
        {
          "output_type": "stream",
          "name": "stdout",
          "text": [
            "['Audi', 'Hummer']\n"
          ]
        }
      ]
    },
    {
      "cell_type": "markdown",
      "metadata": {
        "id": "2TRVriTWWqgH"
      },
      "source": [
        "**break** termina el loop actual"
      ]
    },
    {
      "cell_type": "code",
      "metadata": {
        "colab": {
          "base_uri": "https://localhost:8080/"
        },
        "id": "XluziQ69Wy-l",
        "outputId": "a7cb0a13-1bc1-4764-dcdf-d6d54b19e78b"
      },
      "source": [
        "colors = ['blue','green','red','yellow', 'black']\n",
        "for i in colors:\n",
        "  print(i)\n",
        "  if i == 'red':\n",
        "    break"
      ],
      "execution_count": 50,
      "outputs": [
        {
          "output_type": "stream",
          "name": "stdout",
          "text": [
            "blue\n",
            "green\n",
            "red\n"
          ]
        }
      ]
    },
    {
      "cell_type": "markdown",
      "metadata": {
        "id": "OS4Gh6K1XUnN"
      },
      "source": [
        "**continue** permite que el loop termine las iteraciones"
      ]
    },
    {
      "cell_type": "code",
      "metadata": {
        "colab": {
          "base_uri": "https://localhost:8080/"
        },
        "id": "SqyCalvoXfTh",
        "outputId": "77d1d43d-1fe5-42ce-c4fe-fde652bd967f"
      },
      "source": [
        "colors = ['blue','green','red','yellow','black']\n",
        "for i in colors:\n",
        "  if i == 'red':\n",
        "    continue\n",
        "  print(i)"
      ],
      "execution_count": 53,
      "outputs": [
        {
          "output_type": "stream",
          "name": "stdout",
          "text": [
            "blue\n",
            "green\n",
            "yellow\n",
            "black\n"
          ]
        }
      ]
    },
    {
      "cell_type": "markdown",
      "metadata": {
        "id": "3ixCP2rbYcSf"
      },
      "source": [
        "**Comprensión de listas** permite crear listas avanzadas en una misma linea de código. Crando así listas a partir de listas anidadas.\n",
        "\n"
      ]
    },
    {
      "cell_type": "markdown",
      "metadata": {
        "id": "RAK2RSbfZ4jn"
      },
      "source": [
        "*Sin listas de comprensión*"
      ]
    },
    {
      "cell_type": "code",
      "metadata": {
        "colab": {
          "base_uri": "https://localhost:8080/"
        },
        "id": "uc5dT2-FZQ21",
        "outputId": "6ba59b8a-55c7-44b6-803d-fa6666b95e7e"
      },
      "source": [
        "lista = []\n",
        "for letra in 'comprensión':\n",
        "  lista.append(letra)\n",
        "print(lista)"
      ],
      "execution_count": 55,
      "outputs": [
        {
          "output_type": "stream",
          "name": "stdout",
          "text": [
            "['c', 'o', 'm', 'p', 'r', 'e', 'n', 's', 'i', 'ó', 'n']\n"
          ]
        }
      ]
    },
    {
      "cell_type": "markdown",
      "metadata": {
        "id": "0tYDDhU2Z9y4"
      },
      "source": [
        "*Con listas de comprensión*"
      ]
    },
    {
      "cell_type": "code",
      "metadata": {
        "colab": {
          "base_uri": "https://localhost:8080/"
        },
        "id": "PPNPRSh_YwXA",
        "outputId": "40b2b9f3-790d-4a75-bd15-6dbbf8f4c01c"
      },
      "source": [
        "lista = [letra for letra in 'comprensión']\n",
        "print(lista)"
      ],
      "execution_count": 54,
      "outputs": [
        {
          "output_type": "stream",
          "name": "stdout",
          "text": [
            "['c', 'o', 'm', 'p', 'r', 'e', 'n', 's', 'i', 'ó', 'n']\n"
          ]
        }
      ]
    },
    {
      "cell_type": "code",
      "metadata": {
        "colab": {
          "base_uri": "https://localhost:8080/"
        },
        "id": "hAcJg6XwagG4",
        "outputId": "9cb4a70c-9714-495c-ea8f-80aab58a341d"
      },
      "source": [
        "print([(a,b) for a in [1,2] for b in [4,1] if 1 != 2])"
      ],
      "execution_count": 61,
      "outputs": [
        {
          "output_type": "stream",
          "name": "stdout",
          "text": [
            "[(1, 4), (1, 1), (2, 4), (2, 1)]\n"
          ]
        }
      ]
    },
    {
      "cell_type": "markdown",
      "metadata": {
        "id": "uyEWR3_6bf7c"
      },
      "source": [
        "#**03 Functions and Objective-Oriented Programming**\n",
        "**Funciones**, son bloques de código que se pueden usar varias veces para obtener un valor o hacer otras determinar acciones. Para definir una función se usa la palabra **\"def\"**"
      ]
    },
    {
      "cell_type": "code",
      "metadata": {
        "colab": {
          "base_uri": "https://localhost:8080/"
        },
        "id": "GPWets3icNqQ",
        "outputId": "0cef9f04-8aad-45f4-993e-f9ed1b876780"
      },
      "source": [
        "def dividir (a,b):\n",
        "  return a/b\n",
        "print(dividir(13,5))\n",
        "print(dividir(56.8,23))"
      ],
      "execution_count": 62,
      "outputs": [
        {
          "output_type": "stream",
          "name": "stdout",
          "text": [
            "2.6\n",
            "2.4695652173913043\n"
          ]
        }
      ]
    },
    {
      "cell_type": "code",
      "metadata": {
        "colab": {
          "base_uri": "https://localhost:8080/"
        },
        "id": "wNpZlyA8fTES",
        "outputId": "50d24665-e8d7-4206-b63b-db29584d1869"
      },
      "source": [
        "def informar():\n",
        "  print('Algoritmos 2021-2, Universidad Nacional de Colombia.')\n",
        "informar()"
      ],
      "execution_count": 63,
      "outputs": [
        {
          "output_type": "stream",
          "name": "stdout",
          "text": [
            "Algoritmos 2021-2, Universidad Nacional de Colombia\n"
          ]
        }
      ]
    },
    {
      "cell_type": "markdown",
      "metadata": {
        "id": "46q5GaNkga1S"
      },
      "source": [
        "**range()** crea una lista con una secuencia aritmética, *range(inicio,fin, rango)*"
      ]
    },
    {
      "cell_type": "code",
      "metadata": {
        "colab": {
          "base_uri": "https://localhost:8080/"
        },
        "id": "5o4VUNNUg0f6",
        "outputId": "263daca6-1203-4beb-bfe5-c5de0d355656"
      },
      "source": [
        "x = range(5)\n",
        "for i in x:\n",
        "  print(i)"
      ],
      "execution_count": 64,
      "outputs": [
        {
          "output_type": "stream",
          "name": "stdout",
          "text": [
            "0\n",
            "1\n",
            "2\n",
            "3\n",
            "4\n"
          ]
        }
      ]
    },
    {
      "cell_type": "code",
      "metadata": {
        "colab": {
          "base_uri": "https://localhost:8080/"
        },
        "id": "8GfRsurLg-F8",
        "outputId": "620f3b56-ef83-4b01-85d4-6aaf184bfc98"
      },
      "source": [
        "y = range(1,6)\n",
        "for i in y:\n",
        "  print(i)"
      ],
      "execution_count": 65,
      "outputs": [
        {
          "output_type": "stream",
          "name": "stdout",
          "text": [
            "1\n",
            "2\n",
            "3\n",
            "4\n",
            "5\n"
          ]
        }
      ]
    },
    {
      "cell_type": "code",
      "metadata": {
        "colab": {
          "base_uri": "https://localhost:8080/"
        },
        "id": "FIlcs-WQhJkD",
        "outputId": "32b73210-472f-460f-f436-a217571627bd"
      },
      "source": [
        "z = range(0,10,2)\n",
        "for i in z:\n",
        "  print(i)"
      ],
      "execution_count": 66,
      "outputs": [
        {
          "output_type": "stream",
          "name": "stdout",
          "text": [
            "0\n",
            "2\n",
            "4\n",
            "6\n",
            "8\n"
          ]
        }
      ]
    },
    {
      "cell_type": "markdown",
      "metadata": {
        "id": "BTMJVGSmhbgz"
      },
      "source": [
        "**len()** se usa en los loops y retorna el valor de la longitud o tamañano de un objeto"
      ]
    },
    {
      "cell_type": "code",
      "metadata": {
        "colab": {
          "base_uri": "https://localhost:8080/"
        },
        "id": "mPEKBYOahson",
        "outputId": "611f9057-61ed-4ada-dc82-7c83d06a2378"
      },
      "source": [
        "letras = ['a','b','c','e','u']\n",
        "print('La longitud de la lista letras es {} '.format(len(letras)))"
      ],
      "execution_count": 72,
      "outputs": [
        {
          "output_type": "stream",
          "name": "stdout",
          "text": [
            "La longitud de la lista letras es 5 \n"
          ]
        }
      ]
    },
    {
      "cell_type": "markdown",
      "metadata": {
        "id": "6ZI9ngctiqNN"
      },
      "source": [
        "**map()** ejecuta una función específica para cada elemento en la iteración *map(funcion,iterables)*"
      ]
    },
    {
      "cell_type": "code",
      "metadata": {
        "colab": {
          "base_uri": "https://localhost:8080/"
        },
        "id": "AS_O4Fagkvc_",
        "outputId": "1ce14c9e-d100-49d1-80da-9c86d4945293"
      },
      "source": [
        "def sumar(a, b):\n",
        "  return a + b\n",
        "x = map(sumar, (1,2,3),(4,5,6))\n",
        "print(x)\n",
        "print(list(x)) #Convierte el map en una lista"
      ],
      "execution_count": 78,
      "outputs": [
        {
          "output_type": "stream",
          "name": "stdout",
          "text": [
            "<map object at 0x7f34c61d8fd0>\n",
            "[5, 7, 9]\n"
          ]
        }
      ]
    },
    {
      "cell_type": "markdown",
      "metadata": {
        "id": "gOErnaO7l3Pi"
      },
      "source": [
        "**sorted()** toma la lista y la devuelve ordenada"
      ]
    },
    {
      "cell_type": "code",
      "metadata": {
        "colab": {
          "base_uri": "https://localhost:8080/"
        },
        "id": "2T38Y7dNmBbM",
        "outputId": "f382cf8c-7f3c-4e88-9e7e-ac8324f935c1"
      },
      "source": [
        "sorted([3,2,5,8,1,9,7,4,6])"
      ],
      "execution_count": 80,
      "outputs": [
        {
          "output_type": "execute_result",
          "data": {
            "text/plain": [
              "[1, 2, 3, 4, 5, 6, 7, 8, 9]"
            ]
          },
          "metadata": {},
          "execution_count": 80
        }
      ]
    },
    {
      "cell_type": "markdown",
      "metadata": {
        "id": "X8lqjkD2Up7L"
      },
      "source": [
        "El parámetro \"key\" es usado para ser llamado en la función y el uso de \"lambda\" crea una función anónima qe¿ue también se puede llamar:"
      ]
    },
    {
      "cell_type": "code",
      "metadata": {
        "id": "WEv8LOseU-My"
      },
      "source": [
        "edades = [('Jose', 23),('Antonio', 12),('Laura', 45),('Juan',5)]"
      ],
      "execution_count": 1,
      "outputs": []
    },
    {
      "cell_type": "markdown",
      "metadata": {
        "id": "TA1HGiCxVjQM"
      },
      "source": [
        "Retorna una lista con los elementos ordenados de menor a mayor"
      ]
    },
    {
      "cell_type": "code",
      "metadata": {
        "colab": {
          "base_uri": "https://localhost:8080/"
        },
        "id": "LPAs_7MPVX9Z",
        "outputId": "c1fe8676-a59f-4a44-ec90-974177924de1"
      },
      "source": [
        "sorted(edades, key = lambda x: x[1])"
      ],
      "execution_count": 3,
      "outputs": [
        {
          "output_type": "execute_result",
          "data": {
            "text/plain": [
              "[('Juan', 5), ('Antonio', 12), ('Jose', 23), ('Laura', 45)]"
            ]
          },
          "metadata": {},
          "execution_count": 3
        }
      ]
    },
    {
      "cell_type": "markdown",
      "metadata": {
        "id": "V9XInwKyXERs"
      },
      "source": [
        "Agregando el parámetro \"reverse\" para cambiar el sentido de ordenamiento los elementos de la lista: "
      ]
    },
    {
      "cell_type": "code",
      "metadata": {
        "colab": {
          "base_uri": "https://localhost:8080/"
        },
        "id": "BHdhoumrXXI9",
        "outputId": "4d2f6a48-befd-4adb-d96e-47e0ea977d1b"
      },
      "source": [
        "sorted(edades, key = lambda x: x[1], reverse = True)"
      ],
      "execution_count": 4,
      "outputs": [
        {
          "output_type": "execute_result",
          "data": {
            "text/plain": [
              "[('Laura', 45), ('Jose', 23), ('Antonio', 12), ('Juan', 5)]"
            ]
          },
          "metadata": {},
          "execution_count": 4
        }
      ]
    },
    {
      "cell_type": "markdown",
      "metadata": {
        "id": "vtfGykp1ZcUi"
      },
      "source": [
        "**list.sort()**, también hace lo de \"key\" y \"reverse\" pero no retorno una nueva lista."
      ]
    },
    {
      "cell_type": "code",
      "metadata": {
        "id": "PXi4w0igZqyH"
      },
      "source": [
        "edades = [('Jose', 23),('Antonio', 12),('Laura', 45),('Juan',5)]"
      ],
      "execution_count": 5,
      "outputs": []
    },
    {
      "cell_type": "code",
      "metadata": {
        "id": "MGqjAGNIZzP_"
      },
      "source": [
        "edades.sort(key = lambda x: x[1])"
      ],
      "execution_count": 7,
      "outputs": []
    },
    {
      "cell_type": "code",
      "metadata": {
        "colab": {
          "base_uri": "https://localhost:8080/"
        },
        "id": "c92ncbDdaUvC",
        "outputId": "4b3416de-12d6-4ae0-db94-cc2dd63a5c83"
      },
      "source": [
        "print(edades)"
      ],
      "execution_count": 8,
      "outputs": [
        {
          "output_type": "stream",
          "name": "stdout",
          "text": [
            "[('Juan', 5), ('Antonio', 12), ('Jose', 23), ('Laura', 45)]\n"
          ]
        }
      ]
    },
    {
      "cell_type": "markdown",
      "metadata": {
        "id": "pIwZJ0hXaa9i"
      },
      "source": [
        "#**Clases** \n",
        "En python todo es un objeto, es una instancia de alguna clase.\n",
        "Los datos almacenados en un objetos son *atributos* y las funciones son *métodos*"
      ]
    },
    {
      "cell_type": "markdown",
      "metadata": {
        "id": "14T8CMkRdb1p"
      },
      "source": [
        "Nota: __init__() es una función llamda aautomáticamente cada vez que la clase es llamada para crear un nuevo Objeto"
      ]
    },
    {
      "cell_type": "code",
      "metadata": {
        "id": "jRALaymxcgc5"
      },
      "source": [
        "class Auto:\n",
        "  def __init__(self, marca, modelo, precio, disponible):\n",
        "    self.marca = marca\n",
        "    self.modelo = modelo\n",
        "    self.precio = precio\n",
        "    self.disponible = disponible\n",
        "\n",
        "  def mostrar_inventario(self):\n",
        "    print('Inventario: ' + self.marca + ' ' + self.modelo + ' ' + self.disponible)\n"
      ],
      "execution_count": 61,
      "outputs": []
    },
    {
      "cell_type": "markdown",
      "metadata": {
        "id": "-fhgQHs4fWY6"
      },
      "source": [
        "La clase \"Auto\" tiene los atributps marca, modelo, año, precio. El método vender y mostrar_disponibles"
      ]
    },
    {
      "cell_type": "code",
      "metadata": {
        "id": "PgAaKMyneZuW"
      },
      "source": [
        "auto1 = Auto('Audi', 'A6', 80.000, 'No')\n",
        "auto2 = Auto('Renault', 'Logan', 20.000, 'Si')"
      ],
      "execution_count": 62,
      "outputs": []
    },
    {
      "cell_type": "code",
      "metadata": {
        "colab": {
          "base_uri": "https://localhost:8080/"
        },
        "id": "dGPRGiCkg3A1",
        "outputId": "4185aeed-b348-4827-819b-8b896d5c5200"
      },
      "source": [
        "auto1.mostrar_inventario()\n",
        "auto2.mostrar_inventario()"
      ],
      "execution_count": 63,
      "outputs": [
        {
          "output_type": "stream",
          "name": "stdout",
          "text": [
            "Inventario: Audi A6 No\n",
            "Inventario: Renault Logan Si\n"
          ]
        }
      ]
    },
    {
      "cell_type": "markdown",
      "metadata": {
        "id": "n6MydEL2nbsj"
      },
      "source": [
        "Se puede agregar atributos con **.ceo** al objeto:"
      ]
    },
    {
      "cell_type": "code",
      "metadata": {
        "colab": {
          "base_uri": "https://localhost:8080/",
          "height": 35
        },
        "id": "KTpJLuewnT32",
        "outputId": "1bb63f2e-7c0e-43e5-816d-bec50cd6ab3d"
      },
      "source": [
        "auto1.ceo = 'Rojo'\n",
        "auto1.ceo"
      ],
      "execution_count": 64,
      "outputs": [
        {
          "output_type": "execute_result",
          "data": {
            "application/vnd.google.colaboratory.intrinsic+json": {
              "type": "string"
            },
            "text/plain": [
              "'Rojo'"
            ]
          },
          "metadata": {},
          "execution_count": 64
        }
      ]
    },
    {
      "cell_type": "markdown",
      "metadata": {
        "id": "efvTz99-nxe9"
      },
      "source": [
        "con **dir(objeto)** se pueden listar los nombres de los atributos y métodos del objeto"
      ]
    },
    {
      "cell_type": "code",
      "metadata": {
        "id": "hPnxkYyFnshg"
      },
      "source": [
        "dir(auto1)"
      ],
      "execution_count": null,
      "outputs": []
    },
    {
      "cell_type": "markdown",
      "metadata": {
        "id": "zeI8D6Vvnw9C"
      },
      "source": [
        "**Herencia**\n",
        "Forma de organizar clases, desde la herencia más general a las más específica."
      ]
    },
    {
      "cell_type": "code",
      "metadata": {
        "id": "iisLubU5qVI1"
      },
      "source": [
        "class child(Auto):\n",
        "  def __init__(self,marca,modelo):\n",
        "    self.marca = marca\n",
        "    self.modelo = modelo"
      ],
      "execution_count": 66,
      "outputs": []
    },
    {
      "cell_type": "code",
      "metadata": {
        "colab": {
          "base_uri": "https://localhost:8080/"
        },
        "id": "J2WKyP9Sqic0",
        "outputId": "df651caf-6fef-4d07-aa79-5f5496bcb702"
      },
      "source": [
        "BMW = child('BMW', 'x3')\n",
        "print(BMW.marca)\n",
        "print(BMW.modelo)"
      ],
      "execution_count": 69,
      "outputs": [
        {
          "output_type": "stream",
          "name": "stdout",
          "text": [
            "BMW\n",
            "x3\n"
          ]
        }
      ]
    },
    {
      "cell_type": "markdown",
      "metadata": {
        "id": "NvI7dIKys2zU"
      },
      "source": [
        "#**04 NumPy and Basic Pandas**\n",
        "Permite realizar cálculos científicos en Python, estos paquetes contienen clases y métodos.\n"
      ]
    },
    {
      "cell_type": "code",
      "metadata": {
        "id": "KAV4EqTFt63p"
      },
      "source": [
        "import numpy as np #Importación del paquete NumPy"
      ],
      "execution_count": 71,
      "outputs": []
    },
    {
      "cell_type": "markdown",
      "metadata": {
        "id": "_OMAG1OPuBjx"
      },
      "source": [
        "**Arreglos con Numpy** Red o cuadrícula de valores, todos del mismo tipo, ordenados por índices de una tupla no negativa de enteros (integers)."
      ]
    },
    {
      "cell_type": "code",
      "metadata": {
        "colab": {
          "base_uri": "https://localhost:8080/"
        },
        "id": "zTHKsa2WumpF",
        "outputId": "4f9ae28d-ff3f-41a5-dcb4-ca95993d0b2c"
      },
      "source": [
        "temperaturas_lista = [23.3, 45.1, 36.7, 89.1, 102.5, 100.0]\n",
        "temperaturas_arreglo = np.array(temperaturas_lista)\n",
        "print(temperaturas_arreglo, type(temperaturas_arreglo))"
      ],
      "execution_count": 72,
      "outputs": [
        {
          "output_type": "stream",
          "name": "stdout",
          "text": [
            "[ 23.3  45.1  36.7  89.1 102.5 100. ] <class 'numpy.ndarray'>\n"
          ]
        }
      ]
    },
    {
      "cell_type": "markdown",
      "metadata": {
        "id": "3eStP2sPvihM"
      },
      "source": [
        "\"ndarray\" significa que es un arreglo multidimensional"
      ]
    },
    {
      "cell_type": "code",
      "metadata": {
        "id": "J_ZPD7f1vt2y"
      },
      "source": [
        "arreglo = np.array([[2,3],[4,1],[3,3]])"
      ],
      "execution_count": 76,
      "outputs": []
    },
    {
      "cell_type": "markdown",
      "metadata": {
        "id": "zOfi7JvawEFh"
      },
      "source": [
        "Si se pasa **np.array()** a listas de listas, creará un arreglo de 2 dimensiones."
      ]
    },
    {
      "cell_type": "code",
      "metadata": {
        "colab": {
          "base_uri": "https://localhost:8080/"
        },
        "id": "ia2RJILav5z3",
        "outputId": "16cfe114-5699-47ec-f333-10fdb4270815"
      },
      "source": [
        "print(arreglo, type(arreglo))"
      ],
      "execution_count": 77,
      "outputs": [
        {
          "output_type": "stream",
          "name": "stdout",
          "text": [
            "[[2 3]\n",
            " [4 1]\n",
            " [3 3]] <class 'numpy.ndarray'>\n"
          ]
        }
      ]
    },
    {
      "cell_type": "markdown",
      "metadata": {
        "id": "ro1mxblawmSD"
      },
      "source": [
        "Para obtener las dimensiones de un ndarray se usa el atributo **.shape**"
      ]
    },
    {
      "cell_type": "code",
      "metadata": {
        "colab": {
          "base_uri": "https://localhost:8080/"
        },
        "id": "bS9KZwDYwv7B",
        "outputId": "f617b4a3-46f0-459f-d783-5e2f615af2fc"
      },
      "source": [
        "print(arreglo.shape)"
      ],
      "execution_count": 78,
      "outputs": [
        {
          "output_type": "stream",
          "name": "stdout",
          "text": [
            "(3, 2)\n"
          ]
        }
      ]
    },
    {
      "cell_type": "markdown",
      "metadata": {
        "id": "xZbXnjjgxPtL"
      },
      "source": [
        "En un arreglo de 2 dimensiones, a cada fila se puede acceder por el índice:"
      ]
    },
    {
      "cell_type": "code",
      "metadata": {
        "colab": {
          "base_uri": "https://localhost:8080/"
        },
        "id": "Wq6NYbuexkrS",
        "outputId": "b81784ac-47aa-4cb0-a519-008a3429b796"
      },
      "source": [
        "print(arreglo[2])\n",
        "print(arreglo[0])"
      ],
      "execution_count": 79,
      "outputs": [
        {
          "output_type": "stream",
          "name": "stdout",
          "text": [
            "[3 3]\n",
            "[2 3]\n"
          ]
        }
      ]
    },
    {
      "cell_type": "markdown",
      "metadata": {
        "id": "9Y1rbfqfxwdg"
      },
      "source": [
        "Y para acceder a la matriz por medio de la columna:"
      ]
    },
    {
      "cell_type": "code",
      "metadata": {
        "colab": {
          "base_uri": "https://localhost:8080/"
        },
        "id": "TrLxHHxFx4NN",
        "outputId": "369255ad-3ba0-440a-9246-c2b971184d3a"
      },
      "source": [
        "print('Primera columna: ', arreglo[:,0])\n",
        "print('Segunda columna: ', arreglo[:,1])"
      ],
      "execution_count": 80,
      "outputs": [
        {
          "output_type": "stream",
          "name": "stdout",
          "text": [
            "Primera columna:  [2 4 3]\n",
            "Segunda columna:  [3 1 3]\n"
          ]
        }
      ]
    },
    {
      "cell_type": "markdown",
      "metadata": {
        "id": "E-ikP2EiyNBs"
      },
      "source": [
        "#**Array Functions**"
      ]
    },
    {
      "cell_type": "code",
      "metadata": {
        "colab": {
          "base_uri": "https://localhost:8080/"
        },
        "id": "8zNsaO2iyuk_",
        "outputId": "398b2377-0767-4917-8c18-51236d014764"
      },
      "source": [
        "print(np.log(temperaturas_arreglo)) #Logaritmo Natural"
      ],
      "execution_count": 83,
      "outputs": [
        {
          "output_type": "stream",
          "name": "stdout",
          "text": [
            "[3.14845336 3.80888225 3.60277676 4.48975933 4.6298628  4.60517019]\n"
          ]
        }
      ]
    },
    {
      "cell_type": "code",
      "metadata": {
        "colab": {
          "base_uri": "https://localhost:8080/"
        },
        "id": "KdFFLFyTzLAg",
        "outputId": "9bb7a2bb-6c78-492e-f966-20b01563617f"
      },
      "source": [
        "print(np.mean(temperaturas_arreglo)) # Media\n",
        "print(np.std(temperaturas_arreglo)) # Desviación Estándar\n",
        "print(np.sum(temperaturas_arreglo)) # Sumatoria\n",
        "print(np.max(temperaturas_arreglo)) # Valor Máximo"
      ],
      "execution_count": 84,
      "outputs": [
        {
          "output_type": "stream",
          "name": "stdout",
          "text": [
            "66.11666666666666\n",
            "31.990541136752004\n",
            "396.7\n",
            "102.5\n"
          ]
        }
      ]
    },
    {
      "cell_type": "markdown",
      "metadata": {
        "id": "EKa9AwO6zfOw"
      },
      "source": [
        "#**Pandas**\n",
        "Herramienta para tratar con con información financiera."
      ]
    },
    {
      "cell_type": "code",
      "metadata": {
        "id": "w1mo7Lsqz58G"
      },
      "source": [
        "import pandas as pd # Importación del paquete Pandas"
      ],
      "execution_count": 86,
      "outputs": []
    },
    {
      "cell_type": "markdown",
      "metadata": {
        "id": "5BYSU_wE0BQt"
      },
      "source": [
        "**Series** \n",
        "Es un arreglo unidimensional etiquetado capaz de almacenar cualquier tipo de información (integers, strings, floats, objets, etc)"
      ]
    },
    {
      "cell_type": "code",
      "metadata": {
        "colab": {
          "base_uri": "https://localhost:8080/"
        },
        "id": "MQfzOJti1Unx",
        "outputId": "b5cf7325-9cd3-43c9-9201-b7bbe25f520a"
      },
      "source": [
        "estaturas = [1.80, 1.45, 1.96, 1.78, 1.60, 1.68, 1.55]\n",
        "s = pd.Series(estaturas) # Creación de la Serie\n",
        "s                        # Ejecución de la Serie"
      ],
      "execution_count": 87,
      "outputs": [
        {
          "output_type": "execute_result",
          "data": {
            "text/plain": [
              "0    1.80\n",
              "1    1.45\n",
              "2    1.96\n",
              "3    1.78\n",
              "4    1.60\n",
              "5    1.68\n",
              "6    1.55\n",
              "dtype: float64"
            ]
          },
          "metadata": {},
          "execution_count": 87
        }
      ]
    },
    {
      "cell_type": "markdown",
      "metadata": {
        "id": "z0k6ARqZ17X1"
      },
      "source": [
        "Se pueden personalizar los índices de una nueva Serie:"
      ]
    },
    {
      "cell_type": "code",
      "metadata": {
        "colab": {
          "base_uri": "https://localhost:8080/"
        },
        "id": "XfvNvgV72BS1",
        "outputId": "79d3ec2a-c0ae-4536-98ce-3cf31509afa5"
      },
      "source": [
        "s = pd.Series(estaturas,index = ['a','b','c','d','e','f','g'])\n",
        "s"
      ],
      "execution_count": 88,
      "outputs": [
        {
          "output_type": "execute_result",
          "data": {
            "text/plain": [
              "a    1.80\n",
              "b    1.45\n",
              "c    1.96\n",
              "d    1.78\n",
              "e    1.60\n",
              "f    1.68\n",
              "g    1.55\n",
              "dtype: float64"
            ]
          },
          "metadata": {},
          "execution_count": 88
        }
      ]
    },
    {
      "cell_type": "markdown",
      "metadata": {
        "id": "Uer5nx9h2cCc"
      },
      "source": [
        "Cambiar los índices de una Serie existente:\n"
      ]
    },
    {
      "cell_type": "code",
      "metadata": {
        "colab": {
          "base_uri": "https://localhost:8080/"
        },
        "id": "6f2g7wDO26_c",
        "outputId": "c1c8f4b5-d43b-488b-9114-04c4bb585b10"
      },
      "source": [
        "s.index = [1,2,3,4,5,6,7]\n",
        "s"
      ],
      "execution_count": 98,
      "outputs": [
        {
          "output_type": "execute_result",
          "data": {
            "text/plain": [
              "1    1.80\n",
              "2    1.45\n",
              "3    1.96\n",
              "4    1.78\n",
              "5    1.60\n",
              "6    1.68\n",
              "7    1.55\n",
              "Name: Estaturas de los Hombres, dtype: float64"
            ]
          },
          "metadata": {},
          "execution_count": 98
        }
      ]
    },
    {
      "cell_type": "code",
      "metadata": {
        "colab": {
          "base_uri": "https://localhost:8080/"
        },
        "id": "3RgkE6cA3LAw",
        "outputId": "7cd79423-7063-4449-e49e-493f0098b879"
      },
      "source": [
        "print(s[2:])  # Mostrar los elementos a partir del índice 2\n",
        "print(s[:-3]) # No mostrar los últimos tres elementos "
      ],
      "execution_count": 91,
      "outputs": [
        {
          "output_type": "stream",
          "name": "stdout",
          "text": [
            "3    1.96\n",
            "4    1.78\n",
            "5    1.60\n",
            "6    1.68\n",
            "7    1.55\n",
            "dtype: float64\n",
            "1    1.80\n",
            "2    1.45\n",
            "3    1.96\n",
            "4    1.78\n",
            "dtype: float64\n"
          ]
        }
      ]
    },
    {
      "cell_type": "code",
      "metadata": {
        "colab": {
          "base_uri": "https://localhost:8080/"
        },
        "id": "HgqToRO34FlY",
        "outputId": "a5327d65-bc3e-4283-eb92-e176faed42c1"
      },
      "source": [
        "print(s[2]) # Mostrar elemento de la segunda posición\n",
        "s[2] = 5.00 # Asignar el valor de 5.00 en la segunda posición\n",
        "print(s)    # Imprimir la Serie atualizada"
      ],
      "execution_count": 92,
      "outputs": [
        {
          "output_type": "stream",
          "name": "stdout",
          "text": [
            "1.45\n",
            "1    1.80\n",
            "2    5.00\n",
            "3    1.96\n",
            "4    1.78\n",
            "5    1.60\n",
            "6    1.68\n",
            "7    1.55\n",
            "dtype: float64\n"
          ]
        }
      ]
    },
    {
      "cell_type": "markdown",
      "metadata": {
        "id": "4CNKRBCj4xtC"
      },
      "source": [
        "Se puede agregar un atributo \"nombre\" a la Serie"
      ]
    },
    {
      "cell_type": "code",
      "metadata": {
        "colab": {
          "base_uri": "https://localhost:8080/"
        },
        "id": "BcqQMSKJ45WV",
        "outputId": "4986fbff-9d7b-4156-99d3-e21b481a1772"
      },
      "source": [
        "s = pd.Series(estaturas, name = 'Estaturas de los Hombres') # Asignación del nombre a la Serie\n",
        "print(s)      # Imprimir la serie\n",
        "print(s.name) # Imprimir el nuevo nombre de la Serie"
      ],
      "execution_count": 93,
      "outputs": [
        {
          "output_type": "stream",
          "name": "stdout",
          "text": [
            "0    1.80\n",
            "1    1.45\n",
            "2    1.96\n",
            "3    1.78\n",
            "4    1.60\n",
            "5    1.68\n",
            "6    1.55\n",
            "Name: Estaturas de los Hombres, dtype: float64\n",
            "Estaturas de los Hombres\n"
          ]
        }
      ]
    },
    {
      "cell_type": "markdown",
      "metadata": {
        "id": "A7PQTUJj6Np3"
      },
      "source": [
        "Resúmen Estadísticos de una Serie:"
      ]
    },
    {
      "cell_type": "code",
      "metadata": {
        "colab": {
          "base_uri": "https://localhost:8080/"
        },
        "id": "k6Dr5eoG69Sk",
        "outputId": "aacd6aa0-1933-4820-f6cb-f6dee203d7fd"
      },
      "source": [
        "print(s.describe())"
      ],
      "execution_count": 94,
      "outputs": [
        {
          "output_type": "stream",
          "name": "stdout",
          "text": [
            "count    7.000000\n",
            "mean     1.688571\n",
            "std      0.172475\n",
            "min      1.450000\n",
            "25%      1.575000\n",
            "50%      1.680000\n",
            "75%      1.790000\n",
            "max      1.960000\n",
            "Name: Estaturas de los Hombres, dtype: float64\n"
          ]
        }
      ]
    },
    {
      "cell_type": "markdown",
      "metadata": {
        "id": "94_TBeun7qMT"
      },
      "source": [
        "#**Time Index**\n",
        "Pandas ha creado funciones específicas para la fechas.\n",
        "**pd.date_range()**, usado para crear un nuevo índice en la Serie"
      ]
    },
    {
      "cell_type": "code",
      "metadata": {
        "colab": {
          "base_uri": "https://localhost:8080/"
        },
        "id": "qfmsjPYCCh5k",
        "outputId": "5b30945b-698a-40da-b29e-88409117f8a9"
      },
      "source": [
        "time_index = pd.date_range('2021-10-28', periods = len(s), freq = 'D')\n",
        "print(time_index)\n",
        "s.index = time_index\n",
        "print(s)"
      ],
      "execution_count": 109,
      "outputs": [
        {
          "output_type": "stream",
          "name": "stdout",
          "text": [
            "DatetimeIndex(['2021-10-28', '2021-10-29', '2021-10-30', '2021-10-31',\n",
            "               '2021-11-01', '2021-11-02', '2021-11-03'],\n",
            "              dtype='datetime64[ns]', freq='D')\n",
            "2021-10-28    1.80\n",
            "2021-10-29    1.45\n",
            "2021-10-30    1.96\n",
            "2021-10-31    1.78\n",
            "2021-11-01    1.60\n",
            "2021-11-02    1.68\n",
            "2021-11-03    1.55\n",
            "Freq: D, Name: Estaturas de los Hombres, dtype: float64\n"
          ]
        }
      ]
    },
    {
      "cell_type": "markdown",
      "metadata": {
        "id": "_UGhfcJmDTSu"
      },
      "source": [
        "**iloc[]** es usado para acceder por medio de un indíce de tipo integer"
      ]
    },
    {
      "cell_type": "code",
      "metadata": {
        "colab": {
          "base_uri": "https://localhost:8080/"
        },
        "id": "H6MPVb8PDqKC",
        "outputId": "b568a27a-98dd-458e-959e-0c9a661e494a"
      },
      "source": [
        "print(s.iloc[1])"
      ],
      "execution_count": 112,
      "outputs": [
        {
          "output_type": "stream",
          "name": "stdout",
          "text": [
            "1.45\n"
          ]
        }
      ]
    },
    {
      "cell_type": "code",
      "metadata": {
        "colab": {
          "base_uri": "https://localhost:8080/"
        },
        "id": "ospC0xr0FmQr",
        "outputId": "81aa8a06-9f46-4547-f187-1455fd735bca"
      },
      "source": [
        "s.index = time_index\n",
        "print(s['2021-10-28']) # Se puede usar la fecha como el índice"
      ],
      "execution_count": 113,
      "outputs": [
        {
          "output_type": "stream",
          "name": "stdout",
          "text": [
            "1.8\n"
          ]
        }
      ]
    },
    {
      "cell_type": "code",
      "metadata": {
        "colab": {
          "base_uri": "https://localhost:8080/"
        },
        "id": "CNhTnDAcF8gs",
        "outputId": "e6aadc4b-6ef5-4569-b745-fc6db5bbd875"
      },
      "source": [
        "print(s['2021-10-28' : '2021-11-02']) # Acceder usando un rango de edades"
      ],
      "execution_count": 114,
      "outputs": [
        {
          "output_type": "stream",
          "name": "stdout",
          "text": [
            "2021-10-28    1.80\n",
            "2021-10-29    1.45\n",
            "2021-10-30    1.96\n",
            "2021-10-31    1.78\n",
            "2021-11-01    1.60\n",
            "2021-11-02    1.68\n",
            "Freq: D, Name: Estaturas de los Hombres, dtype: float64\n"
          ]
        }
      ]
    },
    {
      "cell_type": "markdown",
      "metadata": {
        "id": "LpCt3RnuHs5Z"
      },
      "source": [
        "Se pueden usar diferentes operadores lógicos como & | y ~ en múltiples condicionales."
      ]
    },
    {
      "cell_type": "code",
      "metadata": {
        "colab": {
          "base_uri": "https://localhost:8080/"
        },
        "id": "xwocl8ITGwT0",
        "outputId": "96b8dfc2-65dc-4cce-92f0-5941de9fed2b"
      },
      "source": [
        "print(s[s < np.mean(s)])\n",
        "print([(s > np.mean(s)) & (s < np.mean(s) + 2.39*np.std(s))])"
      ],
      "execution_count": 116,
      "outputs": [
        {
          "output_type": "stream",
          "name": "stdout",
          "text": [
            "2021-10-29    1.45\n",
            "2021-11-01    1.60\n",
            "2021-11-02    1.68\n",
            "2021-11-03    1.55\n",
            "Name: Estaturas de los Hombres, dtype: float64\n",
            "[2021-10-28     True\n",
            "2021-10-29    False\n",
            "2021-10-30     True\n",
            "2021-10-31     True\n",
            "2021-11-01    False\n",
            "2021-11-02    False\n",
            "2021-11-03    False\n",
            "Freq: D, Name: Estaturas de los Hombres, dtype: bool]\n"
          ]
        }
      ]
    },
    {
      "cell_type": "markdown",
      "metadata": {
        "id": "mLonUoQ1IGC2"
      },
      "source": [
        "#**05 Pandas-Resampling and DataFrame**\n",
        "Métodos de remuestreo y objeto DataFrame\n",
        "Se usa Yahoo Financce para recuperar data- "
      ]
    },
    {
      "cell_type": "code",
      "metadata": {
        "colab": {
          "base_uri": "https://localhost:8080/"
        },
        "id": "w2OcbZmGIpCL",
        "outputId": "4499f797-af73-4380-cdd9-7a91110674fc"
      },
      "source": [
        "!pip install yfinance"
      ],
      "execution_count": 117,
      "outputs": [
        {
          "output_type": "stream",
          "name": "stdout",
          "text": [
            "Collecting yfinance\n",
            "  Downloading yfinance-0.1.64.tar.gz (26 kB)\n",
            "Requirement already satisfied: pandas>=0.24 in /usr/local/lib/python3.7/dist-packages (from yfinance) (1.1.5)\n",
            "Requirement already satisfied: numpy>=1.15 in /usr/local/lib/python3.7/dist-packages (from yfinance) (1.19.5)\n",
            "Requirement already satisfied: requests>=2.20 in /usr/local/lib/python3.7/dist-packages (from yfinance) (2.23.0)\n",
            "Requirement already satisfied: multitasking>=0.0.7 in /usr/local/lib/python3.7/dist-packages (from yfinance) (0.0.9)\n",
            "Collecting lxml>=4.5.1\n",
            "  Downloading lxml-4.6.3-cp37-cp37m-manylinux2014_x86_64.whl (6.3 MB)\n",
            "\u001b[K     |████████████████████████████████| 6.3 MB 6.1 MB/s \n",
            "\u001b[?25hRequirement already satisfied: python-dateutil>=2.7.3 in /usr/local/lib/python3.7/dist-packages (from pandas>=0.24->yfinance) (2.8.2)\n",
            "Requirement already satisfied: pytz>=2017.2 in /usr/local/lib/python3.7/dist-packages (from pandas>=0.24->yfinance) (2018.9)\n",
            "Requirement already satisfied: six>=1.5 in /usr/local/lib/python3.7/dist-packages (from python-dateutil>=2.7.3->pandas>=0.24->yfinance) (1.15.0)\n",
            "Requirement already satisfied: certifi>=2017.4.17 in /usr/local/lib/python3.7/dist-packages (from requests>=2.20->yfinance) (2021.5.30)\n",
            "Requirement already satisfied: urllib3!=1.25.0,!=1.25.1,<1.26,>=1.21.1 in /usr/local/lib/python3.7/dist-packages (from requests>=2.20->yfinance) (1.24.3)\n",
            "Requirement already satisfied: chardet<4,>=3.0.2 in /usr/local/lib/python3.7/dist-packages (from requests>=2.20->yfinance) (3.0.4)\n",
            "Requirement already satisfied: idna<3,>=2.5 in /usr/local/lib/python3.7/dist-packages (from requests>=2.20->yfinance) (2.10)\n",
            "Building wheels for collected packages: yfinance\n",
            "  Building wheel for yfinance (setup.py) ... \u001b[?25l\u001b[?25hdone\n",
            "  Created wheel for yfinance: filename=yfinance-0.1.64-py2.py3-none-any.whl size=24109 sha256=7abf8dfbdb41044b06e58f1b3e6c9c8899ca86b947aceddab13ebd54432c62e0\n",
            "  Stored in directory: /root/.cache/pip/wheels/86/fe/9b/a4d3d78796b699e37065e5b6c27b75cff448ddb8b24943c288\n",
            "Successfully built yfinance\n",
            "Installing collected packages: lxml, yfinance\n",
            "  Attempting uninstall: lxml\n",
            "    Found existing installation: lxml 4.2.6\n",
            "    Uninstalling lxml-4.2.6:\n",
            "      Successfully uninstalled lxml-4.2.6\n",
            "Successfully installed lxml-4.6.3 yfinance-0.1.64\n"
          ]
        }
      ]
    },
    {
      "cell_type": "code",
      "metadata": {
        "id": "JlnfJqajI1pJ"
      },
      "source": [
        "import yfinance as yf    # Importar el paquete yfinance\n",
        "aapl = yf.Ticker(\"AAPL\")"
      ],
      "execution_count": 119,
      "outputs": []
    },
    {
      "cell_type": "code",
      "metadata": {
        "colab": {
          "base_uri": "https://localhost:8080/"
        },
        "id": "OES5ZXyXJS6-",
        "outputId": "b461dcd3-5830-4b2e-ec18-067198834e68"
      },
      "source": [
        "print(aapl.info) #Obtener información"
      ],
      "execution_count": 121,
      "outputs": [
        {
          "output_type": "stream",
          "name": "stdout",
          "text": [
            "{'zip': '95014', 'sector': 'Technology', 'fullTimeEmployees': 147000, 'longBusinessSummary': 'Apple Inc. designs, manufactures, and markets smartphones, personal computers, tablets, wearables, and accessories worldwide. It also sells various related services. The company offers iPhone, a line of smartphones; Mac, a line of personal computers; iPad, a line of multi-purpose tablets; and wearables, home, and accessories comprising AirPods, Apple TV, Apple Watch, Beats products, HomePod, iPod touch, and other Apple-branded and third-party accessories. It also provides AppleCare support services; cloud services store services; and operates various platforms, including the App Store, that allow customers to discover and download applications and digital content, such as books, music, video, games, and podcasts. In addition, the company offers various services, such as Apple Arcade, a game subscription service; Apple Music, which offers users a curated listening experience with on-demand radio stations; Apple News+, a subscription news and magazine service; Apple TV+, which offers exclusive original content; Apple Card, a co-branded credit card; and Apple Pay, a cashless payment service, as well as licenses its intellectual property. The company serves consumers, and small and mid-sized businesses; and the education, enterprise, and government markets. It sells and delivers third-party applications for its products through the App Store. The company also sells its products through its retail and online stores, and direct sales force; and third-party cellular network carriers, wholesalers, retailers, and resellers. Apple Inc. was founded in 1977 and is headquartered in Cupertino, California.', 'city': 'Cupertino', 'phone': '408-996-1010', 'state': 'CA', 'country': 'United States', 'companyOfficers': [], 'website': 'http://www.apple.com', 'maxAge': 1, 'address1': 'One Apple Park Way', 'industry': 'Consumer Electronics', 'ebitdaMargins': 0.31955, 'profitMargins': 0.25004, 'grossMargins': 0.41005, 'operatingCashflow': 104414003200, 'revenueGrowth': 0.288, 'operatingMargins': 0.28788, 'ebitda': 110934999040, 'targetLowPrice': 132, 'recommendationKey': 'buy', 'grossProfits': 104956000000, 'freeCashflow': 80625876992, 'targetMedianPrice': 170, 'currentPrice': 149.8, 'earningsGrowth': 0.679, 'currentRatio': 1.062, 'returnOnAssets': 0.19302, 'numberOfAnalystOpinions': 40, 'targetMeanPrice': 168.84, 'debtToEquity': 172.081, 'returnOnEquity': 1.27125, 'targetHighPrice': 190, 'totalCash': 90942996480, 'totalDebt': 112436002816, 'totalRevenue': 347155005440, 'totalCashPerShare': 5.502, 'financialCurrency': 'USD', 'revenuePerShare': 20.61, 'quickRatio': 0.887, 'recommendationMean': 1.9, 'exchange': 'NMS', 'shortName': 'Apple Inc.', 'longName': 'Apple Inc.', 'exchangeTimezoneName': 'America/New_York', 'exchangeTimezoneShortName': 'EDT', 'isEsgPopulated': False, 'gmtOffSetMilliseconds': '-14400000', 'quoteType': 'EQUITY', 'symbol': 'AAPL', 'messageBoardId': 'finmb_24937', 'market': 'us_market', 'annualHoldingsTurnover': None, 'enterpriseToRevenue': 7.327, 'beta3Year': None, 'enterpriseToEbitda': 22.928, '52WeekChange': 0.377218, 'morningStarRiskRating': None, 'forwardEps': 5.98, 'revenueQuarterlyGrowth': None, 'sharesOutstanding': 16530199552, 'fundInceptionDate': None, 'annualReportExpenseRatio': None, 'totalAssets': None, 'bookValue': 3.882, 'sharesShort': 100881318, 'sharesPercentSharesOut': 0.0061000003, 'fundFamily': None, 'lastFiscalYearEnd': 1601078400, 'heldPercentInstitutions': 0.58623004, 'netIncomeToCommon': 86801997824, 'trailingEps': 5.108, 'lastDividendValue': 0.22, 'SandP52WeekChange': 0.39125264, 'priceToBook': 38.588356, 'heldPercentInsiders': 0.00071999995, 'nextFiscalYearEnd': 1664150400, 'yield': None, 'mostRecentQuarter': 1632528000, 'shortRatio': 1.25, 'sharesShortPreviousMonthDate': 1631664000, 'floatShares': 16513139929, 'beta': 1.222222, 'enterpriseValue': 2543500394496, 'priceHint': 2, 'threeYearAverageReturn': None, 'lastSplitDate': 1598832000, 'lastSplitFactor': '4:1', 'legalType': None, 'lastDividendDate': 1628208000, 'morningStarOverallRating': None, 'earningsQuarterlyGrowth': 0.622, 'priceToSalesTrailing12Months': 7.132906, 'dateShortInterest': 1634256000, 'pegRatio': 1.35, 'ytdReturn': None, 'forwardPE': 25.050167, 'lastCapGain': None, 'shortPercentOfFloat': 0.0061000003, 'sharesShortPriorMonth': 100926641, 'impliedSharesOutstanding': None, 'category': None, 'fiveYearAverageReturn': None, 'previousClose': 152.57, 'regularMarketOpen': 147.215, 'twoHundredDayAverage': 140.03078, 'trailingAnnualDividendYield': 0.005472897, 'payoutRatio': 0.16309999, 'volume24Hr': None, 'regularMarketDayHigh': 149.935, 'navPrice': None, 'averageDailyVolume10Day': 71414575, 'regularMarketPreviousClose': 152.57, 'fiftyDayAverage': 145.69278, 'trailingAnnualDividendRate': 0.835, 'open': 147.215, 'toCurrency': None, 'averageVolume10days': 71414575, 'expireDate': None, 'algorithm': None, 'dividendRate': 0.88, 'exDividendDate': 1628208000, 'circulatingSupply': None, 'startDate': None, 'regularMarketDayLow': 146.4128, 'currency': 'USD', 'trailingPE': 29.326548, 'regularMarketVolume': 124953168, 'lastMarket': None, 'maxSupply': None, 'openInterest': None, 'marketCap': 2476224020480, 'volumeAllCurrencies': None, 'strikePrice': None, 'averageVolume': 75283306, 'dayLow': 146.4128, 'ask': 149.93, 'askSize': 1100, 'volume': 124953168, 'fiftyTwoWeekHigh': 157.26, 'fromCurrency': None, 'fiveYearAvgDividendYield': 1.24, 'fiftyTwoWeekLow': 107.32, 'bid': 149.91, 'tradeable': False, 'dividendYield': 0.0058, 'bidSize': 1100, 'dayHigh': 149.935, 'regularMarketPrice': 149.8, 'preMarketPrice': None, 'logo_url': 'https://logo.clearbit.com/apple.com'}\n"
          ]
        }
      ]
    },
    {
      "cell_type": "code",
      "metadata": {
        "colab": {
          "base_uri": "https://localhost:8080/",
          "height": 450
        },
        "id": "R_jilD_tJcNf",
        "outputId": "9ab5890e-1d84-49eb-9fbf-34e15c280ed6"
      },
      "source": [
        "aapl_table = aapl.history(start=\"2016-01-01\", end=\"2017-12-31\")\n",
        "aapl_table # Obtener la data del historial del mercado:"
      ],
      "execution_count": 122,
      "outputs": [
        {
          "output_type": "execute_result",
          "data": {
            "text/html": [
              "<div>\n",
              "<style scoped>\n",
              "    .dataframe tbody tr th:only-of-type {\n",
              "        vertical-align: middle;\n",
              "    }\n",
              "\n",
              "    .dataframe tbody tr th {\n",
              "        vertical-align: top;\n",
              "    }\n",
              "\n",
              "    .dataframe thead th {\n",
              "        text-align: right;\n",
              "    }\n",
              "</style>\n",
              "<table border=\"1\" class=\"dataframe\">\n",
              "  <thead>\n",
              "    <tr style=\"text-align: right;\">\n",
              "      <th></th>\n",
              "      <th>Open</th>\n",
              "      <th>High</th>\n",
              "      <th>Low</th>\n",
              "      <th>Close</th>\n",
              "      <th>Volume</th>\n",
              "      <th>Dividends</th>\n",
              "      <th>Stock Splits</th>\n",
              "    </tr>\n",
              "    <tr>\n",
              "      <th>Date</th>\n",
              "      <th></th>\n",
              "      <th></th>\n",
              "      <th></th>\n",
              "      <th></th>\n",
              "      <th></th>\n",
              "      <th></th>\n",
              "      <th></th>\n",
              "    </tr>\n",
              "  </thead>\n",
              "  <tbody>\n",
              "    <tr>\n",
              "      <th>2016-01-04</th>\n",
              "      <td>23.655170</td>\n",
              "      <td>24.291446</td>\n",
              "      <td>23.514544</td>\n",
              "      <td>24.286835</td>\n",
              "      <td>270597600</td>\n",
              "      <td>0.0</td>\n",
              "      <td>0</td>\n",
              "    </tr>\n",
              "    <tr>\n",
              "      <th>2016-01-05</th>\n",
              "      <td>24.379043</td>\n",
              "      <td>24.402096</td>\n",
              "      <td>23.609058</td>\n",
              "      <td>23.678217</td>\n",
              "      <td>223164000</td>\n",
              "      <td>0.0</td>\n",
              "      <td>0</td>\n",
              "    </tr>\n",
              "    <tr>\n",
              "      <th>2016-01-06</th>\n",
              "      <td>23.182569</td>\n",
              "      <td>23.599838</td>\n",
              "      <td>23.023501</td>\n",
              "      <td>23.214844</td>\n",
              "      <td>273829600</td>\n",
              "      <td>0.0</td>\n",
              "      <td>0</td>\n",
              "    </tr>\n",
              "    <tr>\n",
              "      <th>2016-01-07</th>\n",
              "      <td>22.749166</td>\n",
              "      <td>23.083441</td>\n",
              "      <td>22.230463</td>\n",
              "      <td>22.235073</td>\n",
              "      <td>324377600</td>\n",
              "      <td>0.0</td>\n",
              "      <td>0</td>\n",
              "    </tr>\n",
              "    <tr>\n",
              "      <th>2016-01-08</th>\n",
              "      <td>22.719193</td>\n",
              "      <td>22.848292</td>\n",
              "      <td>22.306536</td>\n",
              "      <td>22.352642</td>\n",
              "      <td>283192000</td>\n",
              "      <td>0.0</td>\n",
              "      <td>0</td>\n",
              "    </tr>\n",
              "    <tr>\n",
              "      <th>...</th>\n",
              "      <td>...</td>\n",
              "      <td>...</td>\n",
              "      <td>...</td>\n",
              "      <td>...</td>\n",
              "      <td>...</td>\n",
              "      <td>...</td>\n",
              "      <td>...</td>\n",
              "    </tr>\n",
              "    <tr>\n",
              "      <th>2017-12-22</th>\n",
              "      <td>41.827752</td>\n",
              "      <td>42.004949</td>\n",
              "      <td>41.784653</td>\n",
              "      <td>41.906773</td>\n",
              "      <td>65397600</td>\n",
              "      <td>0.0</td>\n",
              "      <td>0</td>\n",
              "    </tr>\n",
              "    <tr>\n",
              "      <th>2017-12-26</th>\n",
              "      <td>40.898682</td>\n",
              "      <td>41.059116</td>\n",
              "      <td>40.630492</td>\n",
              "      <td>40.843609</td>\n",
              "      <td>132742000</td>\n",
              "      <td>0.0</td>\n",
              "      <td>0</td>\n",
              "    </tr>\n",
              "    <tr>\n",
              "      <th>2017-12-27</th>\n",
              "      <td>40.731061</td>\n",
              "      <td>40.893888</td>\n",
              "      <td>40.637675</td>\n",
              "      <td>40.850788</td>\n",
              "      <td>85992800</td>\n",
              "      <td>0.0</td>\n",
              "      <td>0</td>\n",
              "    </tr>\n",
              "    <tr>\n",
              "      <th>2017-12-28</th>\n",
              "      <td>40.946568</td>\n",
              "      <td>41.150105</td>\n",
              "      <td>40.822051</td>\n",
              "      <td>40.965725</td>\n",
              "      <td>65920800</td>\n",
              "      <td>0.0</td>\n",
              "      <td>0</td>\n",
              "    </tr>\n",
              "    <tr>\n",
              "      <th>2017-12-29</th>\n",
              "      <td>40.831629</td>\n",
              "      <td>40.848389</td>\n",
              "      <td>40.520339</td>\n",
              "      <td>40.522732</td>\n",
              "      <td>103999600</td>\n",
              "      <td>0.0</td>\n",
              "      <td>0</td>\n",
              "    </tr>\n",
              "  </tbody>\n",
              "</table>\n",
              "<p>503 rows × 7 columns</p>\n",
              "</div>"
            ],
            "text/plain": [
              "                 Open       High        Low  ...     Volume  Dividends  Stock Splits\n",
              "Date                                         ...                                    \n",
              "2016-01-04  23.655170  24.291446  23.514544  ...  270597600        0.0             0\n",
              "2016-01-05  24.379043  24.402096  23.609058  ...  223164000        0.0             0\n",
              "2016-01-06  23.182569  23.599838  23.023501  ...  273829600        0.0             0\n",
              "2016-01-07  22.749166  23.083441  22.230463  ...  324377600        0.0             0\n",
              "2016-01-08  22.719193  22.848292  22.306536  ...  283192000        0.0             0\n",
              "...               ...        ...        ...  ...        ...        ...           ...\n",
              "2017-12-22  41.827752  42.004949  41.784653  ...   65397600        0.0             0\n",
              "2017-12-26  40.898682  41.059116  40.630492  ...  132742000        0.0             0\n",
              "2017-12-27  40.731061  40.893888  40.637675  ...   85992800        0.0             0\n",
              "2017-12-28  40.946568  41.150105  40.822051  ...   65920800        0.0             0\n",
              "2017-12-29  40.831629  40.848389  40.520339  ...  103999600        0.0             0\n",
              "\n",
              "[503 rows x 7 columns]"
            ]
          },
          "metadata": {},
          "execution_count": 122
        }
      ]
    },
    {
      "cell_type": "markdown",
      "metadata": {
        "id": "DpLPHOceKNt_"
      },
      "source": [
        "Se crea la Serie con nombre \"aapl\" cuyos valores son los precios de cierre con índice de las fechas correspondientes:"
      ]
    },
    {
      "cell_type": "code",
      "metadata": {
        "colab": {
          "base_uri": "https://localhost:8080/"
        },
        "id": "97OYGXGdKgMf",
        "outputId": "ac45a5a1-8868-421e-bb54-9573c7bbcd9d"
      },
      "source": [
        "aapl = aapl_table['Close']['2017']\n",
        "print(aapl)"
      ],
      "execution_count": 125,
      "outputs": [
        {
          "output_type": "stream",
          "name": "stdout",
          "text": [
            "Date\n",
            "2017-01-03    27.372360\n",
            "2017-01-04    27.341721\n",
            "2017-01-05    27.480768\n",
            "2017-01-06    27.787130\n",
            "2017-01-09    28.041647\n",
            "                ...    \n",
            "2017-12-22    41.906773\n",
            "2017-12-26    40.843609\n",
            "2017-12-27    40.850788\n",
            "2017-12-28    40.965725\n",
            "2017-12-29    40.522732\n",
            "Name: Close, Length: 251, dtype: float64\n"
          ]
        }
      ]
    },
    {
      "cell_type": "markdown",
      "metadata": {
        "id": "pRM9XehCK1xa"
      },
      "source": [
        "Se puede buscar data específica usando ['yyyy-mm-dd'] y en un mes específico con ['yyyy-mm']"
      ]
    },
    {
      "cell_type": "code",
      "metadata": {
        "colab": {
          "base_uri": "https://localhost:8080/"
        },
        "id": "RJuH3ztcLGw-",
        "outputId": "60b05d2f-b6f9-42f6-8a5a-aa420b7b7af9"
      },
      "source": [
        "print(aapl['2017-3']) # Filtar data usando año y mes específicos"
      ],
      "execution_count": 126,
      "outputs": [
        {
          "output_type": "stream",
          "name": "stdout",
          "text": [
            "Date\n",
            "2017-03-01    33.086281\n",
            "2017-03-02    32.889835\n",
            "2017-03-03    33.083912\n",
            "2017-03-06    32.979774\n",
            "2017-03-07    33.022385\n",
            "2017-03-08    32.899296\n",
            "2017-03-09    32.823559\n",
            "2017-03-10    32.932438\n",
            "2017-03-13    32.946636\n",
            "2017-03-14    32.896942\n",
            "2017-03-15    33.244865\n",
            "2017-03-16    33.299309\n",
            "2017-03-17    33.133629\n",
            "2017-03-20    33.481556\n",
            "2017-03-21    33.098122\n",
            "2017-03-22    33.472088\n",
            "2017-03-23    33.353737\n",
            "2017-03-24    33.287468\n",
            "2017-03-27    33.344276\n",
            "2017-03-28    34.035400\n",
            "2017-03-29    34.111137\n",
            "2017-03-30    34.066162\n",
            "2017-03-31    34.002262\n",
            "Name: Close, dtype: float64\n"
          ]
        }
      ]
    },
    {
      "cell_type": "code",
      "metadata": {
        "colab": {
          "base_uri": "https://localhost:8080/"
        },
        "id": "xI8qXp4ALOgY",
        "outputId": "44144260-2d3b-4bfc-a553-d16202333da7"
      },
      "source": [
        "aapl['2017-2':'2017-4'] # Filtrar data del año 2017 en los meses 2 4"
      ],
      "execution_count": 127,
      "outputs": [
        {
          "output_type": "execute_result",
          "data": {
            "text/plain": [
              "Date\n",
              "2017-02-01    30.341726\n",
              "2017-02-02    30.289883\n",
              "2017-02-03    30.419495\n",
              "2017-02-06    30.704647\n",
              "2017-02-07    30.996868\n",
              "                ...    \n",
              "2017-04-24    33.997528\n",
              "2017-04-25    34.208172\n",
              "2017-04-26    34.006992\n",
              "2017-04-27    34.033024\n",
              "2017-04-28    33.999889\n",
              "Name: Close, Length: 61, dtype: float64"
            ]
          },
          "metadata": {},
          "execution_count": 127
        }
      ]
    },
    {
      "cell_type": "markdown",
      "metadata": {
        "id": "u6-Wyd9cMGtn"
      },
      "source": [
        "Para acceder a los primeros N elementos con **.head(N)**"
      ]
    },
    {
      "cell_type": "code",
      "metadata": {
        "colab": {
          "base_uri": "https://localhost:8080/"
        },
        "id": "L6UrVejsL9ja",
        "outputId": "3dd55353-5d4e-40d5-f501-5f9b0e695184"
      },
      "source": [
        "print(aapl.head(10))"
      ],
      "execution_count": 128,
      "outputs": [
        {
          "output_type": "stream",
          "name": "stdout",
          "text": [
            "Date\n",
            "2017-01-03    27.372360\n",
            "2017-01-04    27.341721\n",
            "2017-01-05    27.480768\n",
            "2017-01-06    27.787130\n",
            "2017-01-09    28.041647\n",
            "2017-01-10    28.069929\n",
            "2017-01-11    28.220749\n",
            "2017-01-12    28.102917\n",
            "2017-01-13    28.053432\n",
            "2017-01-17    28.279669\n",
            "Name: Close, dtype: float64\n"
          ]
        }
      ]
    },
    {
      "cell_type": "markdown",
      "metadata": {
        "id": "ZPn0Nq93MF8w"
      },
      "source": [
        "Para acceder a los últimos N elementos con **.tail(N)**"
      ]
    },
    {
      "cell_type": "code",
      "metadata": {
        "colab": {
          "base_uri": "https://localhost:8080/"
        },
        "id": "l8sRZ0S3MUKe",
        "outputId": "3dda2c7b-30f0-482e-f072-36125d247332"
      },
      "source": [
        "print(aapl.tail(8))"
      ],
      "execution_count": 129,
      "outputs": [
        {
          "output_type": "stream",
          "name": "stdout",
          "text": [
            "Date\n",
            "2017-12-19    41.794231\n",
            "2017-12-20    41.748741\n",
            "2017-12-21    41.906773\n",
            "2017-12-22    41.906773\n",
            "2017-12-26    40.843609\n",
            "2017-12-27    40.850788\n",
            "2017-12-28    40.965725\n",
            "2017-12-29    40.522732\n",
            "Name: Close, dtype: float64\n"
          ]
        }
      ]
    },
    {
      "cell_type": "markdown",
      "metadata": {
        "id": "IaOf_eFgMbR_"
      },
      "source": [
        "#**Resampling**"
      ]
    },
    {
      "cell_type": "markdown",
      "metadata": {
        "id": "RyYSKRYwM9y2"
      },
      "source": [
        "**series.resample.mean()** trae grupos de dato en intervalos de tiempo y luego calcula la media del intervalo"
      ]
    },
    {
      "cell_type": "code",
      "metadata": {
        "colab": {
          "base_uri": "https://localhost:8080/"
        },
        "id": "tVALMz9DNR7X",
        "outputId": "2c17a76f-bd8e-46f1-9130-1dd94f2bc069"
      },
      "source": [
        "por_mes = aapl.resample('M').mean() # 'M' indica mes, para semana sería con 'W'\n",
        "print(por_mes)"
      ],
      "execution_count": 130,
      "outputs": [
        {
          "output_type": "stream",
          "name": "stdout",
          "text": [
            "Date\n",
            "2017-01-31    28.178332\n",
            "2017-02-28    31.606276\n",
            "2017-03-31    33.282220\n",
            "2017-04-30    33.819264\n",
            "2017-05-31    36.125685\n",
            "2017-06-30    35.133982\n",
            "2017-07-31    35.245240\n",
            "2017-08-31    37.897229\n",
            "2017-09-30    37.604737\n",
            "2017-10-31    37.654551\n",
            "2017-11-30    41.233916\n",
            "2017-12-31    41.160040\n",
            "Freq: M, Name: Close, dtype: float64\n"
          ]
        }
      ]
    },
    {
      "cell_type": "code",
      "metadata": {
        "colab": {
          "base_uri": "https://localhost:8080/"
        },
        "id": "Omt2-DuvN0dM",
        "outputId": "7c3028b4-0bfd-46e0-a600-b997f3e044bc"
      },
      "source": [
        "aapl.resample('M').max() # Por y mes con el máximo"
      ],
      "execution_count": 131,
      "outputs": [
        {
          "output_type": "execute_result",
          "data": {
            "text/plain": [
              "Date\n",
              "2017-01-31    28.739212\n",
              "2017-02-28    32.451969\n",
              "2017-03-31    34.111137\n",
              "2017-04-30    34.264980\n",
              "2017-05-31    37.099133\n",
              "2017-06-30    36.944641\n",
              "2017-07-31    36.471699\n",
              "2017-08-31    39.129726\n",
              "2017-09-30    39.141651\n",
              "2017-10-31    40.332249\n",
              "2017-11-30    42.050140\n",
              "2017-12-31    42.244400\n",
              "Freq: M, Name: Close, dtype: float64"
            ]
          },
          "metadata": {},
          "execution_count": 131
        }
      ]
    },
    {
      "cell_type": "markdown",
      "metadata": {
        "id": "xwsCNlBYOc3U"
      },
      "source": [
        "Escoger la frecuencia con \"nf\" donde n es un integer y \"f\" es 'M' Mes, 'W' semana y 'D' día:"
      ]
    },
    {
      "cell_type": "code",
      "metadata": {
        "colab": {
          "base_uri": "https://localhost:8080/"
        },
        "id": "C6FvL1bWOPkI",
        "outputId": "f21eb3ed-b88f-4e29-afa0-7e9838dc97d5"
      },
      "source": [
        "aapl.resample('3D').mean() # Tres días"
      ],
      "execution_count": 132,
      "outputs": [
        {
          "output_type": "execute_result",
          "data": {
            "text/plain": [
              "Date\n",
              "2017-01-03    27.398283\n",
              "2017-01-06    27.787130\n",
              "2017-01-09    28.110775\n",
              "2017-01-12    28.078175\n",
              "2017-01-15    28.279669\n",
              "                ...    \n",
              "2017-12-17    42.019316\n",
              "2017-12-20    41.854095\n",
              "2017-12-23          NaN\n",
              "2017-12-26    40.886707\n",
              "2017-12-29    40.522732\n",
              "Freq: 3D, Name: Close, Length: 121, dtype: float64"
            ]
          },
          "metadata": {},
          "execution_count": 132
        }
      ]
    },
    {
      "cell_type": "code",
      "metadata": {
        "colab": {
          "base_uri": "https://localhost:8080/"
        },
        "id": "F-YG9ol2OpWo",
        "outputId": "50376333-9e43-404d-e02e-d73e529a79a9"
      },
      "source": [
        "aapl.resample('3w').mean()"
      ],
      "execution_count": 133,
      "outputs": [
        {
          "output_type": "execute_result",
          "data": {
            "text/plain": [
              "Date\n",
              "2017-01-08    27.495495\n",
              "2017-01-29    28.308789\n",
              "2017-02-19    30.898725\n",
              "2017-03-12    32.715532\n",
              "2017-04-02    33.451573\n",
              "2017-04-23    33.737172\n",
              "2017-05-14    35.148128\n",
              "2017-06-04    36.509896\n",
              "2017-06-25    35.183252\n",
              "2017-07-16    34.473293\n",
              "2017-08-06    36.085102\n",
              "2017-08-27    37.932493\n",
              "2017-09-17    38.513293\n",
              "2017-10-08    36.847633\n",
              "2017-10-29    37.598893\n",
              "2017-11-19    41.013898\n",
              "2017-12-10    41.044570\n",
              "2017-12-31    41.385109\n",
              "Freq: 3W-SUN, Name: Close, dtype: float64"
            ]
          },
          "metadata": {},
          "execution_count": 133
        }
      ]
    },
    {
      "cell_type": "markdown",
      "metadata": {
        "id": "546PI7kUO6yO"
      },
      "source": [
        "Otros métodos también pueden ser usados:"
      ]
    },
    {
      "cell_type": "code",
      "metadata": {
        "colab": {
          "base_uri": "https://localhost:8080/"
        },
        "id": "XBrovmE8O0Li",
        "outputId": "a906c769-649d-4c67-894f-7ec8e265792a"
      },
      "source": [
        "aapl.resample('D').std() # Por día la Desviación Estándar"
      ],
      "execution_count": 135,
      "outputs": [
        {
          "output_type": "execute_result",
          "data": {
            "text/plain": [
              "Date\n",
              "2017-01-03   NaN\n",
              "2017-01-04   NaN\n",
              "2017-01-05   NaN\n",
              "2017-01-06   NaN\n",
              "2017-01-07   NaN\n",
              "              ..\n",
              "2017-12-25   NaN\n",
              "2017-12-26   NaN\n",
              "2017-12-27   NaN\n",
              "2017-12-28   NaN\n",
              "2017-12-29   NaN\n",
              "Freq: D, Name: Close, Length: 361, dtype: float64"
            ]
          },
          "metadata": {},
          "execution_count": 135
        }
      ]
    },
    {
      "cell_type": "code",
      "metadata": {
        "colab": {
          "base_uri": "https://localhost:8080/"
        },
        "id": "a0yqb9cVPiNq",
        "outputId": "d717ab65-b6ab-4b3d-bbd3-cc0972060ab5"
      },
      "source": [
        "aapl.resample('W').max() # Por semana el valor máximo"
      ],
      "execution_count": 136,
      "outputs": [
        {
          "output_type": "execute_result",
          "data": {
            "text/plain": [
              "Date\n",
              "2017-01-08    27.787130\n",
              "2017-01-15    28.220749\n",
              "2017-01-22    28.279669\n",
              "2017-01-29    28.739212\n",
              "2017-02-05    30.419495\n",
              "2017-02-12    31.341911\n",
              "2017-02-19    32.122971\n",
              "2017-02-26    32.451969\n",
              "2017-03-05    33.086281\n",
              "2017-03-12    33.022385\n",
              "2017-03-19    33.299309\n",
              "2017-03-26    33.481556\n",
              "2017-04-02    34.111137\n",
              "2017-04-09    34.264980\n",
              "2017-04-16    33.886280\n",
              "2017-04-23    33.713505\n",
              "2017-04-30    34.208172\n",
              "2017-05-07    35.256695\n",
              "2017-05-14    37.099133\n",
              "2017-05-21    37.004063\n",
              "2017-05-28    36.597660\n",
              "2017-06-04    36.944641\n",
              "2017-06-11    36.925640\n",
              "2017-06-18    34.838955\n",
              "2017-06-25    34.779545\n",
              "2017-07-02    34.658329\n",
              "2017-07-09    34.266182\n",
              "2017-07-16    35.421219\n",
              "2017-07-23    35.891808\n",
              "2017-07-30    36.471699\n",
              "2017-08-06    37.346294\n",
              "2017-08-13    38.277943\n",
              "2017-08-20    38.557095\n",
              "2017-08-27    38.170570\n",
              "2017-09-03    39.141651\n",
              "2017-09-10    38.671616\n",
              "2017-09-17    38.533237\n",
              "2017-09-24    37.872326\n",
              "2017-10-01    36.798649\n",
              "2017-10-08    37.075413\n",
              "2017-10-15    37.457169\n",
              "2017-10-22    38.287483\n",
              "2017-10-29    38.903057\n",
              "2017-11-05    41.157795\n",
              "2017-11-12    42.050140\n",
              "2017-11-19    41.657742\n",
              "2017-11-26    41.897194\n",
              "2017-12-03    41.686470\n",
              "2017-12-10    40.659222\n",
              "2017-12-17    41.657742\n",
              "2017-12-24    42.244400\n",
              "2017-12-31    40.965725\n",
              "Freq: W-SUN, Name: Close, dtype: float64"
            ]
          },
          "metadata": {},
          "execution_count": 136
        }
      ]
    },
    {
      "cell_type": "code",
      "metadata": {
        "colab": {
          "base_uri": "https://localhost:8080/"
        },
        "id": "cNBijkvOPlkP",
        "outputId": "59838521-5f85-4df3-db0d-6b7fceecdb37"
      },
      "source": [
        "aapl.resample('M').min() # Por mes el valor mínimo"
      ],
      "execution_count": 137,
      "outputs": [
        {
          "output_type": "execute_result",
          "data": {
            "text/plain": [
              "Date\n",
              "2017-01-31    27.341721\n",
              "2017-02-28    30.289883\n",
              "2017-03-31    32.823559\n",
              "2017-04-30    33.296936\n",
              "2017-05-31    34.681545\n",
              "2017-06-30    33.812260\n",
              "2017-07-31    33.921585\n",
              "2017-08-31    35.661266\n",
              "2017-09-30    35.920609\n",
              "2017-10-31    36.619698\n",
              "2017-11-30    39.819263\n",
              "2017-12-31    40.470051\n",
              "Freq: M, Name: Close, dtype: float64"
            ]
          },
          "metadata": {},
          "execution_count": 137
        }
      ]
    },
    {
      "cell_type": "markdown",
      "metadata": {
        "id": "hwRsStDuQojf"
      },
      "source": [
        "Calular mensualmente según los precios del último día del mes anterior:"
      ]
    },
    {
      "cell_type": "code",
      "metadata": {
        "id": "43mnfgD1QwMf"
      },
      "source": [
        "ultimo_dia = aapl.resample('M').agg(lambda x: x[-1])\n",
        "print(ultimo_dia)"
      ],
      "execution_count": 144,
      "outputs": []
    },
    {
      "cell_type": "markdown",
      "metadata": {
        "id": "6IomL2ODS6CL"
      },
      "source": [
        "Calcular las tarifas mensuales del primer al último día:"
      ]
    },
    {
      "cell_type": "code",
      "metadata": {
        "colab": {
          "base_uri": "https://localhost:8080/"
        },
        "id": "7c4A20bFTBdn",
        "outputId": "bb461d7f-b49d-4392-daf3-de1294f803fc"
      },
      "source": [
        "retorno_mensual = aapl.resample('M').agg(lambda x: x[-1]/x[0] - 1)\n",
        "print(retorno_mensual)"
      ],
      "execution_count": 142,
      "outputs": [
        {
          "output_type": "stream",
          "name": "stdout",
          "text": [
            "Date\n",
            "2017-01-31    0.044770\n",
            "2017-02-28    0.068613\n",
            "2017-03-31    0.027685\n",
            "2017-04-30   -0.000348\n",
            "2017-05-31    0.046463\n",
            "2017-06-30   -0.059799\n",
            "2017-07-31    0.036446\n",
            "2017-08-31    0.097261\n",
            "2017-09-30   -0.060530\n",
            "2017-10-31    0.099019\n",
            "2017-11-30    0.033422\n",
            "2017-12-31   -0.010640\n",
            "Freq: M, Name: Close, dtype: float64\n"
          ]
        }
      ]
    },
    {
      "cell_type": "code",
      "metadata": {
        "colab": {
          "base_uri": "https://localhost:8080/"
        },
        "id": "HSRCij57TS1w",
        "outputId": "fa0e4da5-db86-4907-f710-780b7eb97ea5"
      },
      "source": [
        "print(retorno_mensual.mean()) # Realizar cálculo rápido de la media\n",
        "print(retorno_mensual.std())  # Realizar cálculo rápido de la desviación estándar\n",
        "print(retorno_mensual.max())  # Realizar cálculo rápido del valor"
      ],
      "execution_count": 143,
      "outputs": [
        {
          "output_type": "stream",
          "name": "stdout",
          "text": [
            "0.02686338483763841\n",
            "0.0522585629034675\n",
            "0.09901851007954865\n"
          ]
        }
      ]
    },
    {
      "cell_type": "code",
      "metadata": {
        "colab": {
          "base_uri": "https://localhost:8080/"
        },
        "id": "A3a75CtVUYc3",
        "outputId": "27d8ccfd-97c8-4ead-de1e-c3f74a6fdde3"
      },
      "source": [
        "print(ultimo_dia.diff()) # Calcula la diferencia entre cada elemento"
      ],
      "execution_count": 145,
      "outputs": [
        {
          "output_type": "stream",
          "name": "stdout",
          "text": [
            "Date\n",
            "2017-01-31         NaN\n",
            "2017-02-28    3.825745\n",
            "2017-03-31    1.578705\n",
            "2017-04-30   -0.002373\n",
            "2017-05-31    2.305450\n",
            "2017-06-30   -2.077171\n",
            "2017-07-31    1.119377\n",
            "2017-08-31    3.782181\n",
            "2017-09-30   -2.357338\n",
            "2017-10-31    3.559860\n",
            "2017-11-30    0.817863\n",
            "2017-12-31   -0.627380\n",
            "Freq: M, Name: Close, dtype: float64\n"
          ]
        }
      ]
    },
    {
      "cell_type": "code",
      "metadata": {
        "colab": {
          "base_uri": "https://localhost:8080/"
        },
        "id": "1Wuf6xWeUwaL",
        "outputId": "4fb85fd0-84fd-4210-857a-062905a20bc3"
      },
      "source": [
        "print(ultimo_dia.pct_change()) # Porcentaje de cambio "
      ],
      "execution_count": 146,
      "outputs": [
        {
          "output_type": "stream",
          "name": "stdout",
          "text": [
            "Date\n",
            "2017-01-31         NaN\n",
            "2017-02-28    0.133778\n",
            "2017-03-31    0.048690\n",
            "2017-04-30   -0.000070\n",
            "2017-05-31    0.067808\n",
            "2017-06-30   -0.057214\n",
            "2017-07-31    0.032703\n",
            "2017-08-31    0.107000\n",
            "2017-09-30   -0.060244\n",
            "2017-10-31    0.096808\n",
            "2017-11-30    0.020278\n",
            "2017-12-31   -0.015246\n",
            "Freq: M, Name: Close, dtype: float64\n"
          ]
        }
      ]
    },
    {
      "cell_type": "markdown",
      "metadata": {
        "id": "OWDgFAGvVBFX"
      },
      "source": [
        "  Para tratar con valores **NaN** se procede a llenar con 0 (ceros) esa data:"
      ]
    },
    {
      "cell_type": "code",
      "metadata": {
        "colab": {
          "base_uri": "https://localhost:8080/"
        },
        "id": "RfB4_UdeVWn_",
        "outputId": "17e7f174-cca4-4633-bc5f-8ab03d270258"
      },
      "source": [
        "retorno_diario = ultimo_dia.pct_change()\n",
        "print(retorno_diario.fillna(0)) # Llenar NaN con 0"
      ],
      "execution_count": 147,
      "outputs": [
        {
          "output_type": "stream",
          "name": "stdout",
          "text": [
            "Date\n",
            "2017-01-31    0.000000\n",
            "2017-02-28    0.133778\n",
            "2017-03-31    0.048690\n",
            "2017-04-30   -0.000070\n",
            "2017-05-31    0.067808\n",
            "2017-06-30   -0.057214\n",
            "2017-07-31    0.032703\n",
            "2017-08-31    0.107000\n",
            "2017-09-30   -0.060244\n",
            "2017-10-31    0.096808\n",
            "2017-11-30    0.020278\n",
            "2017-12-31   -0.015246\n",
            "Freq: M, Name: Close, dtype: float64\n"
          ]
        }
      ]
    },
    {
      "cell_type": "markdown",
      "metadata": {
        "id": "67sO9rg4V5d-"
      },
      "source": [
        "También se puede llenar con el siguiente valor ajustado o 'backward fill' or 'bfill'"
      ]
    },
    {
      "cell_type": "code",
      "metadata": {
        "colab": {
          "base_uri": "https://localhost:8080/"
        },
        "id": "2oHQPKAkWF7C",
        "outputId": "108c3317-35a8-46e4-b640-449ae54f622b"
      },
      "source": [
        "retorno_diario = ultimo_dia.pct_change()\n",
        "print(retorno_diario.fillna(method = 'bfill'))"
      ],
      "execution_count": 148,
      "outputs": [
        {
          "output_type": "stream",
          "name": "stdout",
          "text": [
            "Date\n",
            "2017-01-31    0.133778\n",
            "2017-02-28    0.133778\n",
            "2017-03-31    0.048690\n",
            "2017-04-30   -0.000070\n",
            "2017-05-31    0.067808\n",
            "2017-06-30   -0.057214\n",
            "2017-07-31    0.032703\n",
            "2017-08-31    0.107000\n",
            "2017-09-30   -0.060244\n",
            "2017-10-31    0.096808\n",
            "2017-11-30    0.020278\n",
            "2017-12-31   -0.015246\n",
            "Freq: M, Name: Close, dtype: float64\n"
          ]
        }
      ]
    },
    {
      "cell_type": "code",
      "metadata": {
        "colab": {
          "base_uri": "https://localhost:8080/"
        },
        "id": "FP63pMk6WUDr",
        "outputId": "8abc346a-6b8a-44cd-af91-2bdede763e03"
      },
      "source": [
        "retorno_diario = ultimo_dia.pct_change()\n",
        "retorno_diario.dropna() # Remover NaN con .dropna()"
      ],
      "execution_count": 149,
      "outputs": [
        {
          "output_type": "execute_result",
          "data": {
            "text/plain": [
              "Date\n",
              "2017-02-28    0.133778\n",
              "2017-03-31    0.048690\n",
              "2017-04-30   -0.000070\n",
              "2017-05-31    0.067808\n",
              "2017-06-30   -0.057214\n",
              "2017-07-31    0.032703\n",
              "2017-08-31    0.107000\n",
              "2017-09-30   -0.060244\n",
              "2017-10-31    0.096808\n",
              "2017-11-30    0.020278\n",
              "2017-12-31   -0.015246\n",
              "Freq: M, Name: Close, dtype: float64"
            ]
          },
          "metadata": {},
          "execution_count": 149
        }
      ]
    },
    {
      "cell_type": "markdown",
      "metadata": {
        "id": "xa2HepW2WkXl"
      },
      "source": [
        "#**DataFrame**\n",
        "Es una colección de Series de objetos, cada uno con diferentes tipos de datos\n",
        "En como una table, como la hoja de cáldul en Excel.\n",
        "\n",
        "El método común para crear un DataFrame es pasando un dictionary:"
      ]
    },
    {
      "cell_type": "code",
      "metadata": {
        "colab": {
          "base_uri": "https://localhost:8080/"
        },
        "id": "IWuPkim-X8F-",
        "outputId": "2f8b6dd7-f1e1-4600-a435-f427c4ec67b5"
      },
      "source": [
        "import pandas as pd # Importar el paquete de Pandas\n",
        "\n",
        "dict = {'Audi' : [123.100, 453.611, 223.532],\n",
        "        'BMW' : [78.21, 34.21, 56.98],\n",
        "        'Ferrari' : [1.2, 2.1, 0.6]}\n",
        "data_index = pd.date_range('2021-10-26', periods = 3, freq = 'D')\n",
        "df = pd.DataFrame(dict, index = data_index)\n",
        "print(df)"
      ],
      "execution_count": 151,
      "outputs": [
        {
          "output_type": "stream",
          "name": "stdout",
          "text": [
            "               Audi    BMW  Ferrari\n",
            "2021-10-26  123.100  78.21      1.2\n",
            "2021-10-27  453.611  34.21      2.1\n",
            "2021-10-28  223.532  56.98      0.6\n"
          ]
        }
      ]
    },
    {
      "cell_type": "code",
      "metadata": {
        "colab": {
          "base_uri": "https://localhost:8080/"
        },
        "id": "_Fpd3JXDZ6Gu",
        "outputId": "b75d4629-1ae5-4e4d-d657-a123fac69839"
      },
      "source": [
        "df = aapl_table\n",
        "print(df.Close.tail(10))     #Recupar valores por el índice\n",
        "print(df['Volume'].tail(10))"
      ],
      "execution_count": 155,
      "outputs": [
        {
          "output_type": "stream",
          "name": "stdout",
          "text": [
            "Date\n",
            "2017-12-15    41.657742\n",
            "2017-12-18    42.244400\n",
            "2017-12-19    41.794231\n",
            "2017-12-20    41.748741\n",
            "2017-12-21    41.906773\n",
            "2017-12-22    41.906773\n",
            "2017-12-26    40.843609\n",
            "2017-12-27    40.850788\n",
            "2017-12-28    40.965725\n",
            "2017-12-29    40.522732\n",
            "Name: Close, dtype: float64\n",
            "Date\n",
            "2017-12-15    160677200\n",
            "2017-12-18    117684400\n",
            "2017-12-19    109745600\n",
            "2017-12-20     93902400\n",
            "2017-12-21     83799600\n",
            "2017-12-22     65397600\n",
            "2017-12-26    132742000\n",
            "2017-12-27     85992800\n",
            "2017-12-28     65920800\n",
            "2017-12-29    103999600\n",
            "Name: Volume, dtype: int64\n"
          ]
        }
      ]
    },
    {
      "cell_type": "markdown",
      "metadata": {
        "id": "1INbaYD6asO3"
      },
      "source": [
        "Todos los métodos aplicados en la Series, también pueden ser usados en los DataFrame:"
      ]
    },
    {
      "cell_type": "code",
      "metadata": {
        "colab": {
          "base_uri": "https://localhost:8080/"
        },
        "id": "fyvRfPlcbOm0",
        "outputId": "15f2a851-cd3b-4543-fa58-ffdae4e28c73"
      },
      "source": [
        "aapl_2017 = df['2017']\n",
        "aapl_mes = aapl_2017.resample('M').agg(lambda x: x[-1])\n",
        "print(aapl_mes)"
      ],
      "execution_count": 158,
      "outputs": [
        {
          "output_type": "stream",
          "name": "stdout",
          "text": [
            "                 Open       High        Low  ...     Volume  Dividends  Stock Splits\n",
            "Date                                         ...                                    \n",
            "2017-01-31  28.550681  28.607239  28.425779  ...  196804000        0.0             0\n",
            "2017-02-28  32.444858  32.530065  32.354916  ...   93931600        0.0             0\n",
            "2017-03-31  34.016463  34.146641  33.848414  ...   78646800        0.0             0\n",
            "2017-04-30  34.104032  34.153737  33.909951  ...   83441600        0.0             0\n",
            "2017-05-31  36.592913  36.640445  36.215030  ...   97804800        0.0             0\n",
            "2017-06-30  34.330362  34.451572  34.171128  ...   92096400        0.0             0\n",
            "2017-07-31  35.625610  35.727807  35.204950  ...   79383600        0.0             0\n",
            "2017-08-31  39.043832  39.253797  39.005656  ...  107140400        0.0             0\n",
            "2017-09-30  36.555269  36.774777  36.266566  ...  105199200        0.0             0\n",
            "2017-10-31  40.060250  40.477792  39.831199  ...  144187200        0.0             0\n",
            "2017-11-30  40.810085  41.219552  40.333574  ...  166108800        0.0             0\n",
            "2017-12-31  40.831629  40.848389  40.520339  ...  103999600        0.0             0\n",
            "\n",
            "[12 rows x 7 columns]\n"
          ]
        }
      ]
    },
    {
      "cell_type": "markdown",
      "metadata": {
        "id": "SRe8FeF2b7zX"
      },
      "source": [
        "Se pueden seleccionar columnas de un DataFrame usando sus nombres:"
      ]
    },
    {
      "cell_type": "code",
      "metadata": {
        "colab": {
          "base_uri": "https://localhost:8080/"
        },
        "id": "d4nW5Tg9cCQO",
        "outputId": "3b68f656-142b-4b48-82dc-044cf77f559f"
      },
      "source": [
        "aapl_bar = aapl_mes[['Open', 'High', 'Low', 'Close']]\n",
        "print(aapl_bar)"
      ],
      "execution_count": 159,
      "outputs": [
        {
          "output_type": "stream",
          "name": "stdout",
          "text": [
            "                 Open       High        Low      Close\n",
            "Date                                                  \n",
            "2017-01-31  28.550681  28.607239  28.425779  28.597813\n",
            "2017-02-28  32.444858  32.530065  32.354916  32.423557\n",
            "2017-03-31  34.016463  34.146641  33.848414  34.002262\n",
            "2017-04-30  34.104032  34.153737  33.909951  33.999889\n",
            "2017-05-31  36.592913  36.640445  36.215030  36.305340\n",
            "2017-06-30  34.330362  34.451572  34.171128  34.228168\n",
            "2017-07-31  35.625610  35.727807  35.204950  35.347546\n",
            "2017-08-31  39.043832  39.253797  39.005656  39.129726\n",
            "2017-09-30  36.555269  36.774777  36.266566  36.772388\n",
            "2017-10-31  40.060250  40.477792  39.831199  40.332249\n",
            "2017-11-30  40.810085  41.219552  40.333574  41.150112\n",
            "2017-12-31  40.831629  40.848389  40.520339  40.522732\n"
          ]
        }
      ]
    },
    {
      "cell_type": "markdown",
      "metadata": {
        "id": "At_bu9kCcszo"
      },
      "source": [
        "Especificando las filas y columnas con **.loc[]**:"
      ]
    },
    {
      "cell_type": "code",
      "metadata": {
        "colab": {
          "base_uri": "https://localhost:8080/"
        },
        "id": "EJph1YEFdDOV",
        "outputId": "3fdcc739-a57b-4ec3-88be-d41682c63359"
      },
      "source": [
        "print(aapl_mes.loc['2017-02':'2017-08', ['Open', 'High', 'Low', 'Close']])"
      ],
      "execution_count": 160,
      "outputs": [
        {
          "output_type": "stream",
          "name": "stdout",
          "text": [
            "                 Open       High        Low      Close\n",
            "Date                                                  \n",
            "2017-02-28  32.444858  32.530065  32.354916  32.423557\n",
            "2017-03-31  34.016463  34.146641  33.848414  34.002262\n",
            "2017-04-30  34.104032  34.153737  33.909951  33.999889\n",
            "2017-05-31  36.592913  36.640445  36.215030  36.305340\n",
            "2017-06-30  34.330362  34.451572  34.171128  34.228168\n",
            "2017-07-31  35.625610  35.727807  35.204950  35.347546\n",
            "2017-08-31  39.043832  39.253797  39.005656  39.129726\n"
          ]
        }
      ]
    },
    {
      "cell_type": "markdown",
      "metadata": {
        "id": "JVLWSnt8dvhX"
      },
      "source": [
        "**Declaraciones lógicas:**\n",
        "Traer datos o subconjuntos específicos a partir de condicionales definidas"
      ]
    },
    {
      "cell_type": "code",
      "metadata": {
        "colab": {
          "base_uri": "https://localhost:8080/"
        },
        "id": "l3jZ0OW4d1fl",
        "outputId": "7ac54c88-da20-4251-fcc6-27167db63e92"
      },
      "source": [
        "import numpy as np\n",
        "\n",
        "above = aapl_bar[aapl_bar.Close > np.mean(aapl_bar.Close)]\n",
        "print(above)"
      ],
      "execution_count": 161,
      "outputs": [
        {
          "output_type": "stream",
          "name": "stdout",
          "text": [
            "                 Open       High        Low      Close\n",
            "Date                                                  \n",
            "2017-05-31  36.592913  36.640445  36.215030  36.305340\n",
            "2017-08-31  39.043832  39.253797  39.005656  39.129726\n",
            "2017-09-30  36.555269  36.774777  36.266566  36.772388\n",
            "2017-10-31  40.060250  40.477792  39.831199  40.332249\n",
            "2017-11-30  40.810085  41.219552  40.333574  41.150112\n",
            "2017-12-31  40.831629  40.848389  40.520339  40.522732\n"
          ]
        }
      ]
    },
    {
      "cell_type": "markdown",
      "metadata": {
        "id": "8XHVWO9UekQN"
      },
      "source": [
        "**Data Validation**"
      ]
    },
    {
      "cell_type": "code",
      "metadata": {
        "colab": {
          "base_uri": "https://localhost:8080/"
        },
        "id": "QtZsZG0kepYQ",
        "outputId": "040fbecd-c37e-47cb-ff4d-d774783787f8"
      },
      "source": [
        "aapl_bar['rate_retur'] = aapl_bar.Close.pct_change()\n",
        "print(aapl_bar)"
      ],
      "execution_count": 162,
      "outputs": [
        {
          "output_type": "stream",
          "name": "stdout",
          "text": [
            "                 Open       High        Low      Close  rate_retur\n",
            "Date                                                              \n",
            "2017-01-31  28.550681  28.607239  28.425779  28.597813         NaN\n",
            "2017-02-28  32.444858  32.530065  32.354916  32.423557    0.133778\n",
            "2017-03-31  34.016463  34.146641  33.848414  34.002262    0.048690\n",
            "2017-04-30  34.104032  34.153737  33.909951  33.999889   -0.000070\n",
            "2017-05-31  36.592913  36.640445  36.215030  36.305340    0.067808\n",
            "2017-06-30  34.330362  34.451572  34.171128  34.228168   -0.057214\n",
            "2017-07-31  35.625610  35.727807  35.204950  35.347546    0.032703\n",
            "2017-08-31  39.043832  39.253797  39.005656  39.129726    0.107000\n",
            "2017-09-30  36.555269  36.774777  36.266566  36.772388   -0.060244\n",
            "2017-10-31  40.060250  40.477792  39.831199  40.332249    0.096808\n",
            "2017-11-30  40.810085  41.219552  40.333574  41.150112    0.020278\n",
            "2017-12-31  40.831629  40.848389  40.520339  40.522732   -0.015246\n"
          ]
        },
        {
          "output_type": "stream",
          "name": "stderr",
          "text": [
            "/usr/local/lib/python3.7/dist-packages/ipykernel_launcher.py:1: SettingWithCopyWarning: \n",
            "A value is trying to be set on a copy of a slice from a DataFrame.\n",
            "Try using .loc[row_indexer,col_indexer] = value instead\n",
            "\n",
            "See the caveats in the documentation: https://pandas.pydata.org/pandas-docs/stable/user_guide/indexing.html#returning-a-view-versus-a-copy\n",
            "  \"\"\"Entry point for launching an IPython kernel.\n"
          ]
        }
      ]
    },
    {
      "cell_type": "code",
      "metadata": {
        "colab": {
          "base_uri": "https://localhost:8080/"
        },
        "id": "seTAn5t6fgb7",
        "outputId": "7ee39905-a828-4dce-9452-f66816eb3118"
      },
      "source": [
        "missing = aapl_bar.isnull() # Ayuda a revisar valores anormles\n",
        "print(missing)\n",
        "print('-------------------------------')\n",
        "print(missing.describe())"
      ],
      "execution_count": 163,
      "outputs": [
        {
          "output_type": "stream",
          "name": "stdout",
          "text": [
            "             Open   High    Low  Close  rate_retur\n",
            "Date                                              \n",
            "2017-01-31  False  False  False  False        True\n",
            "2017-02-28  False  False  False  False       False\n",
            "2017-03-31  False  False  False  False       False\n",
            "2017-04-30  False  False  False  False       False\n",
            "2017-05-31  False  False  False  False       False\n",
            "2017-06-30  False  False  False  False       False\n",
            "2017-07-31  False  False  False  False       False\n",
            "2017-08-31  False  False  False  False       False\n",
            "2017-09-30  False  False  False  False       False\n",
            "2017-10-31  False  False  False  False       False\n",
            "2017-11-30  False  False  False  False       False\n",
            "2017-12-31  False  False  False  False       False\n",
            "-------------------------------\n",
            "         Open   High    Low  Close rate_retur\n",
            "count      12     12     12     12         12\n",
            "unique      1      1      1      1          2\n",
            "top     False  False  False  False      False\n",
            "freq       12     12     12     12         11\n"
          ]
        }
      ]
    },
    {
      "cell_type": "markdown",
      "metadata": {
        "id": "-wH8bxlZf9u2"
      },
      "source": [
        "\"unique\" valores unicos en cada columna\n",
        "Hay 12 \"counts\" y 11 valores \"falsos\", indicando que hay valores missing.\n",
        "\n",
        "Forma más facil de encontrar valores missing: "
      ]
    },
    {
      "cell_type": "code",
      "metadata": {
        "colab": {
          "base_uri": "https://localhost:8080/"
        },
        "id": "xoy5A1pbglJ3",
        "outputId": "9ed7596f-17d5-4c8e-f8ae-cc5a5b31cd2f"
      },
      "source": [
        "print(missing[missing.rate_retur == True])"
      ],
      "execution_count": 164,
      "outputs": [
        {
          "output_type": "stream",
          "name": "stdout",
          "text": [
            "             Open   High    Low  Close  rate_retur\n",
            "Date                                              \n",
            "2017-01-31  False  False  False  False        True\n"
          ]
        }
      ]
    },
    {
      "cell_type": "markdown",
      "metadata": {
        "id": "CcStQNI2gzbk"
      },
      "source": [
        "Usando los métodos **dropna()** y **fillna()** en el DataFrame: "
      ]
    },
    {
      "cell_type": "code",
      "metadata": {
        "colab": {
          "base_uri": "https://localhost:8080/"
        },
        "id": "MiubLMmchBEM",
        "outputId": "bc04451b-8e15-472e-da97-4b462e836de4"
      },
      "source": [
        "drop = aapl_bar.dropna()\n",
        "print(drop)\n",
        "print('\\n------------------------------------\\n')\n",
        "fill = aapl_bar.fillna(0) # Llenar con 0\n",
        "print(fill)"
      ],
      "execution_count": 165,
      "outputs": [
        {
          "output_type": "stream",
          "name": "stdout",
          "text": [
            "                 Open       High        Low      Close  rate_retur\n",
            "Date                                                              \n",
            "2017-02-28  32.444858  32.530065  32.354916  32.423557    0.133778\n",
            "2017-03-31  34.016463  34.146641  33.848414  34.002262    0.048690\n",
            "2017-04-30  34.104032  34.153737  33.909951  33.999889   -0.000070\n",
            "2017-05-31  36.592913  36.640445  36.215030  36.305340    0.067808\n",
            "2017-06-30  34.330362  34.451572  34.171128  34.228168   -0.057214\n",
            "2017-07-31  35.625610  35.727807  35.204950  35.347546    0.032703\n",
            "2017-08-31  39.043832  39.253797  39.005656  39.129726    0.107000\n",
            "2017-09-30  36.555269  36.774777  36.266566  36.772388   -0.060244\n",
            "2017-10-31  40.060250  40.477792  39.831199  40.332249    0.096808\n",
            "2017-11-30  40.810085  41.219552  40.333574  41.150112    0.020278\n",
            "2017-12-31  40.831629  40.848389  40.520339  40.522732   -0.015246\n",
            "\n",
            "------------------------------------\n",
            "\n",
            "                 Open       High        Low      Close  rate_retur\n",
            "Date                                                              \n",
            "2017-01-31  28.550681  28.607239  28.425779  28.597813    0.000000\n",
            "2017-02-28  32.444858  32.530065  32.354916  32.423557    0.133778\n",
            "2017-03-31  34.016463  34.146641  33.848414  34.002262    0.048690\n",
            "2017-04-30  34.104032  34.153737  33.909951  33.999889   -0.000070\n",
            "2017-05-31  36.592913  36.640445  36.215030  36.305340    0.067808\n",
            "2017-06-30  34.330362  34.451572  34.171128  34.228168   -0.057214\n",
            "2017-07-31  35.625610  35.727807  35.204950  35.347546    0.032703\n",
            "2017-08-31  39.043832  39.253797  39.005656  39.129726    0.107000\n",
            "2017-09-30  36.555269  36.774777  36.266566  36.772388   -0.060244\n",
            "2017-10-31  40.060250  40.477792  39.831199  40.332249    0.096808\n",
            "2017-11-30  40.810085  41.219552  40.333574  41.150112    0.020278\n",
            "2017-12-31  40.831629  40.848389  40.520339  40.522732   -0.015246\n"
          ]
        }
      ]
    },
    {
      "cell_type": "markdown",
      "metadata": {
        "id": "X90sp9YxhZ3q"
      },
      "source": [
        "#**DataFrame Concat**\n",
        "Unir una Serie o DataFrame en otro usando la función **.concat()** en Pandas"
      ]
    },
    {
      "cell_type": "code",
      "metadata": {
        "colab": {
          "base_uri": "https://localhost:8080/"
        },
        "id": "qJ3taoiRiDVJ",
        "outputId": "30a15b9e-bd7c-473a-ba6b-afbb73b17627"
      },
      "source": [
        "s1 = pd.Series([123.2, 122.5, 567.2, 098.1], name = 'Audi')\n",
        "s2 = pd.Series([98.2, 34.2, 21.3, 09.1], name = 'BMW')\n",
        "data_frame = pd.concat([s1,s2], axis = 1)\n",
        "print(data_frame)"
      ],
      "execution_count": 167,
      "outputs": [
        {
          "output_type": "stream",
          "name": "stdout",
          "text": [
            "    Audi   BMW\n",
            "0  123.2  98.2\n",
            "1  122.5  34.2\n",
            "2  567.2  21.3\n",
            "3   98.1   9.1\n"
          ]
        }
      ]
    },
    {
      "cell_type": "markdown",
      "metadata": {
        "id": "4Q8AgiXLjkFR"
      },
      "source": [
        "Unir dos DataFrames usando las filas:"
      ]
    },
    {
      "cell_type": "code",
      "metadata": {
        "colab": {
          "base_uri": "https://localhost:8080/"
        },
        "id": "pgzoPgu3joqm",
        "outputId": "1d1c87d4-5b9a-4055-8807-9f0f1e1d3be4"
      },
      "source": [
        "df_volume = aapl_table.loc['2017-10':'2018-03', ['Volume', 'Stock Splits']].resample('M').agg(lambda x: x[-1])\n",
        "print(df_volume)\n",
        "print('n\\---------------------------------------\\n')\n",
        "df_2017 = aapl_table.loc['2017-10':'2018-03',['Open', 'High', 'Low', 'Close']].resample('M').agg(lambda x: x[-1])\n",
        "print(df_2017)"
      ],
      "execution_count": 168,
      "outputs": [
        {
          "output_type": "stream",
          "name": "stdout",
          "text": [
            "               Volume  Stock Splits\n",
            "Date                               \n",
            "2017-10-31  144187200             0\n",
            "2017-11-30  166108800             0\n",
            "2017-12-31  103999600             0\n",
            "n\\---------------------------------------\n",
            "\n",
            "                 Open       High        Low      Close\n",
            "Date                                                  \n",
            "2017-10-31  40.060250  40.477792  39.831199  40.332249\n",
            "2017-11-30  40.810085  41.219552  40.333574  41.150112\n",
            "2017-12-31  40.831629  40.848389  40.520339  40.522732\n"
          ]
        }
      ]
    },
    {
      "cell_type": "code",
      "metadata": {
        "colab": {
          "base_uri": "https://localhost:8080/"
        },
        "id": "W17Zghd3kyZn",
        "outputId": "c3b5652b-be22-40fa-e4a2-ba4e1124ae1d"
      },
      "source": [
        "concat = pd.concat([aapl_bar, df_volume], axis = 1) # axis=1 que unirá dos DataFrames por las columnas\n",
        "print(concat)"
      ],
      "execution_count": 169,
      "outputs": [
        {
          "output_type": "stream",
          "name": "stdout",
          "text": [
            "                 Open       High  ...       Volume  Stock Splits\n",
            "Date                              ...                           \n",
            "2017-01-31  28.550681  28.607239  ...          NaN           NaN\n",
            "2017-02-28  32.444858  32.530065  ...          NaN           NaN\n",
            "2017-03-31  34.016463  34.146641  ...          NaN           NaN\n",
            "2017-04-30  34.104032  34.153737  ...          NaN           NaN\n",
            "2017-05-31  36.592913  36.640445  ...          NaN           NaN\n",
            "2017-06-30  34.330362  34.451572  ...          NaN           NaN\n",
            "2017-07-31  35.625610  35.727807  ...          NaN           NaN\n",
            "2017-08-31  39.043832  39.253797  ...          NaN           NaN\n",
            "2017-09-30  36.555269  36.774777  ...          NaN           NaN\n",
            "2017-10-31  40.060250  40.477792  ...  144187200.0           0.0\n",
            "2017-11-30  40.810085  41.219552  ...  166108800.0           0.0\n",
            "2017-12-31  40.831629  40.848389  ...  103999600.0           0.0\n",
            "\n",
            "[12 rows x 7 columns]\n"
          ]
        }
      ]
    },
    {
      "cell_type": "markdown",
      "metadata": {
        "id": "GvlfMc0XlT7o"
      },
      "source": [
        "Por defelto toda la data es unida, resultando en info perdida. Para unir la intersección se usa **\"inner join\"**:"
      ]
    },
    {
      "cell_type": "code",
      "metadata": {
        "colab": {
          "base_uri": "https://localhost:8080/"
        },
        "id": "_6EnkEnClh12",
        "outputId": "ac81705b-2a7a-4d1f-a6f3-99ff789491ae"
      },
      "source": [
        "concat = pd.concat([aapl_bar,df_volume],axis = 1, join='inner')\n",
        "print(concat)"
      ],
      "execution_count": 170,
      "outputs": [
        {
          "output_type": "stream",
          "name": "stdout",
          "text": [
            "                 Open       High  ...     Volume  Stock Splits\n",
            "Date                              ...                         \n",
            "2017-10-31  40.060250  40.477792  ...  144187200             0\n",
            "2017-11-30  40.810085  41.219552  ...  166108800             0\n",
            "2017-12-31  40.831629  40.848389  ...  103999600             0\n",
            "\n",
            "[3 rows x 7 columns]\n"
          ]
        }
      ]
    },
    {
      "cell_type": "markdown",
      "metadata": {
        "id": "Wb17OLESl2dV"
      },
      "source": [
        "\"Append\" es una alternativa para concatenar dos DataFrames por axis=0:"
      ]
    },
    {
      "cell_type": "code",
      "metadata": {
        "colab": {
          "base_uri": "https://localhost:8080/"
        },
        "id": "F8nmjwwqmB6G",
        "outputId": "b62d6ece-2365-48c0-ccc2-799bf84c9b26"
      },
      "source": [
        "concat = pd.concat([aapl_bar, df_2017], axis = 0 )\n",
        "print(concat)"
      ],
      "execution_count": 173,
      "outputs": [
        {
          "output_type": "stream",
          "name": "stdout",
          "text": [
            "                 Open       High        Low      Close  rate_retur\n",
            "Date                                                              \n",
            "2017-01-31  28.550681  28.607239  28.425779  28.597813         NaN\n",
            "2017-02-28  32.444858  32.530065  32.354916  32.423557    0.133778\n",
            "2017-03-31  34.016463  34.146641  33.848414  34.002262    0.048690\n",
            "2017-04-30  34.104032  34.153737  33.909951  33.999889   -0.000070\n",
            "2017-05-31  36.592913  36.640445  36.215030  36.305340    0.067808\n",
            "2017-06-30  34.330362  34.451572  34.171128  34.228168   -0.057214\n",
            "2017-07-31  35.625610  35.727807  35.204950  35.347546    0.032703\n",
            "2017-08-31  39.043832  39.253797  39.005656  39.129726    0.107000\n",
            "2017-09-30  36.555269  36.774777  36.266566  36.772388   -0.060244\n",
            "2017-10-31  40.060250  40.477792  39.831199  40.332249    0.096808\n",
            "2017-11-30  40.810085  41.219552  40.333574  41.150112    0.020278\n",
            "2017-12-31  40.831629  40.848389  40.520339  40.522732   -0.015246\n",
            "2017-10-31  40.060250  40.477792  39.831199  40.332249         NaN\n",
            "2017-11-30  40.810085  41.219552  40.333574  41.150112         NaN\n",
            "2017-12-31  40.831629  40.848389  40.520339  40.522732         NaN\n"
          ]
        }
      ]
    },
    {
      "cell_type": "markdown",
      "metadata": {
        "id": "gEZ9NQMDnAJH"
      },
      "source": [
        "Unir columnas con el mismo nombre"
      ]
    },
    {
      "cell_type": "code",
      "metadata": {
        "colab": {
          "base_uri": "https://localhost:8080/"
        },
        "id": "eV8A8-EEnRGz",
        "outputId": "b55bfb8f-9db0-4692-bcfe-29c56bff58a4"
      },
      "source": [
        "df_2017.columns = ['Change', 'High', 'Low', 'Close']\n",
        "concat = pd.concat([aapl_bar, df_2017], axis = 0)\n",
        "print(concat)"
      ],
      "execution_count": 175,
      "outputs": [
        {
          "output_type": "stream",
          "name": "stdout",
          "text": [
            "                 Open       High        Low      Close  rate_retur     Change\n",
            "Date                                                                         \n",
            "2017-01-31  28.550681  28.607239  28.425779  28.597813         NaN        NaN\n",
            "2017-02-28  32.444858  32.530065  32.354916  32.423557    0.133778        NaN\n",
            "2017-03-31  34.016463  34.146641  33.848414  34.002262    0.048690        NaN\n",
            "2017-04-30  34.104032  34.153737  33.909951  33.999889   -0.000070        NaN\n",
            "2017-05-31  36.592913  36.640445  36.215030  36.305340    0.067808        NaN\n",
            "2017-06-30  34.330362  34.451572  34.171128  34.228168   -0.057214        NaN\n",
            "2017-07-31  35.625610  35.727807  35.204950  35.347546    0.032703        NaN\n",
            "2017-08-31  39.043832  39.253797  39.005656  39.129726    0.107000        NaN\n",
            "2017-09-30  36.555269  36.774777  36.266566  36.772388   -0.060244        NaN\n",
            "2017-10-31  40.060250  40.477792  39.831199  40.332249    0.096808        NaN\n",
            "2017-11-30  40.810085  41.219552  40.333574  41.150112    0.020278        NaN\n",
            "2017-12-31  40.831629  40.848389  40.520339  40.522732   -0.015246        NaN\n",
            "2017-10-31        NaN  40.477792  39.831199  40.332249         NaN  40.060250\n",
            "2017-11-30        NaN  41.219552  40.333574  41.150112         NaN  40.810085\n",
            "2017-12-31        NaN  40.848389  40.520339  40.522732         NaN  40.831629\n"
          ]
        }
      ]
    }
  ]
}